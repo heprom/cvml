{
 "cells": [
  {
   "cell_type": "markdown",
   "metadata": {
    "id": "yP1Bj__X82Fc"
   },
   "source": [
    "# K-means model to classify voids in a Ti6Al4V weld\n",
    "\n",
    "In this tutorial we program and use the K-means algorithm to classify a population of 3D voids obtained by X-ray tomography. The goal of the tutorial is to create 5 differents classes for the voids based on their morphology.\n",
    "Thanks to Hugo Launay, Laurent Lacourt and David Ryckelynck for sharing the data set.\n",
    "![](https://github.com/heprom/cvml/blob/main/tutorials/weld_defects.png?raw=true)\n",
    "\n",
    "Run the notebook in Google colab:\n",
    "https://colab.research.google.com/github/heprom/cvml/blob/main/tutorials/voids_kmeans.ipynb"
   ]
  },
  {
   "cell_type": "code",
   "execution_count": null,
   "metadata": {
    "executionInfo": {
     "elapsed": 846,
     "status": "ok",
     "timestamp": 1613822476089,
     "user": {
      "displayName": "Hugo Launay",
      "photoUrl": "",
      "userId": "00611183967320165963"
     },
     "user_tz": -60
    },
    "id": "OZ6zz0ea8yEB"
   },
   "outputs": [],
   "source": [
    "import numpy as np\n",
    "import matplotlib\n",
    "%matplotlib inline\n",
    "import matplotlib.pyplot as plt, matplotlib.cm as cm"
   ]
  },
  {
   "cell_type": "markdown",
   "metadata": {
    "id": "QzbqtWQ4DDDw"
   },
   "source": [
    "# Data pre-processing\n",
    "\n",
    "## Loading the data set\n",
    "Start by loading the complete data set into memory, the data is stored into a compressed numpy array file: `void_shapes.npz` and can be loaded simply using `np.load`"
   ]
  },
  {
   "cell_type": "code",
   "execution_count": null,
   "metadata": {
    "executionInfo": {
     "elapsed": 1156,
     "status": "ok",
     "timestamp": 1613823576111,
     "user": {
      "displayName": "Hugo Launay",
      "photoUrl": "",
      "userId": "00611183967320165963"
     },
     "user_tz": -60
    },
    "id": "cI-12uNFXw8I"
   },
   "outputs": [],
   "source": [
    "import numpy as np\n",
    "npz_data = ...\n",
    "data = npz_data['shapes']"
   ]
  },
  {
   "cell_type": "markdown",
   "metadata": {
    "id": "HV2GXdMJDdai"
   },
   "source": [
    "Look how many data points we have"
   ]
  },
  {
   "cell_type": "code",
   "execution_count": null,
   "metadata": {
    "colab": {
     "base_uri": "https://localhost:8080/"
    },
    "executionInfo": {
     "elapsed": 477,
     "status": "ok",
     "timestamp": 1613823577634,
     "user": {
      "displayName": "Hugo Launay",
      "photoUrl": "",
      "userId": "00611183967320165963"
     },
     "user_tz": -60
    },
    "id": "jhjh12V-DMyp",
    "outputId": "a3e7271f-9afb-4c6f-85d2-6bbe0b7eba1b"
   },
   "outputs": [],
   "source": [
    "print(...)"
   ]
  },
  {
   "cell_type": "markdown",
   "metadata": {},
   "source": [
    "Observe that each data point is a numpy array of size (40 x 40 x 40) in binary form (either 0 or 1). For the latter you can use the function `np.unique`."
   ]
  },
  {
   "cell_type": "code",
   "execution_count": null,
   "metadata": {
    "colab": {
     "base_uri": "https://localhost:8080/"
    },
    "executionInfo": {
     "elapsed": 7056,
     "status": "ok",
     "timestamp": 1613823587779,
     "user": {
      "displayName": "Hugo Launay",
      "photoUrl": "",
      "userId": "00611183967320165963"
     },
     "user_tz": -60
    },
    "id": "p-WkZwdrAkmR",
    "outputId": "3d1b2b3e-a1ab-44dd-8b26-f43574f54961"
   },
   "outputs": [],
   "source": [
    "# output the shape of the first data point\n",
    "print(...)\n",
    "\n",
    "# output the different values in the data set\n",
    "print(...)"
   ]
  },
  {
   "cell_type": "markdown",
   "metadata": {
    "id": "F2jlbXeMDvCD"
   },
   "source": [
    "## plotting the data\n",
    "At this point, it is useful to hava a look at the data. We will do this by plotting randomly a few voids in 2D (summing up the third dimension)"
   ]
  },
  {
   "cell_type": "code",
   "execution_count": null,
   "metadata": {
    "colab": {
     "base_uri": "https://localhost:8080/",
     "height": 284
    },
    "executionInfo": {
     "elapsed": 1051,
     "status": "ok",
     "timestamp": 1613823591782,
     "user": {
      "displayName": "Hugo Launay",
      "photoUrl": "",
      "userId": "00611183967320165963"
     },
     "user_tz": -60
    },
    "id": "5DT8nj7eCU6U",
    "outputId": "e424c6fb-fbb0-43d1-8007-b957d050fb0b"
   },
   "outputs": [],
   "source": [
    "# first display the first void by summing the 3D array on the third dimension\n",
    "plt.imshow(...)"
   ]
  },
  {
   "cell_type": "code",
   "execution_count": null,
   "metadata": {
    "colab": {
     "base_uri": "https://localhost:8080/",
     "height": 361
    },
    "executionInfo": {
     "elapsed": 1520,
     "status": "ok",
     "timestamp": 1613823597043,
     "user": {
      "displayName": "Hugo Launay",
      "photoUrl": "",
      "userId": "00611183967320165963"
     },
     "user_tz": -60
    },
    "id": "Nvf0xSI_EUj-",
    "outputId": "9056010a-1cbe-4561-efb2-7d9d12da4a7e"
   },
   "outputs": [],
   "source": [
    "# now plot 25 data points with a mosaic of small images\n",
    "n = 5\n",
    "plt.figure(figsize=(n, n))\n",
    "for j in range(n):\n",
    "    for i in range(n):\n",
    "        index = n * j + i\n",
    "        axi = plt.subplot(n, n, index + 1)\n",
    "        index = ...\n",
    "        axi.imshow(...)\n",
    "        axi.axis('off')\n",
    "plt.subplots_adjust(left=0.05, right=0.95, bottom=0.04, top=0.96)\n",
    "plt.show()"
   ]
  },
  {
   "cell_type": "markdown",
   "metadata": {
    "id": "iEaAVUjeGYap"
   },
   "source": [
    "## Feature engineering\n",
    "Now we have a better understanding of the natude of the data, we will compute some features: **volume** and **sphericity**"
   ]
  },
  {
   "cell_type": "markdown",
   "metadata": {
    "id": "xcC136AZHoUI"
   },
   "source": [
    "The volume (in voxels) can be simply computed by summing all voxels that equals 1. As other voxels equals 0, we can simply sum all voxels.\n",
    "\n",
    "$V_i=\\sum_{v\\in data[i]}v$"
   ]
  },
  {
   "cell_type": "code",
   "execution_count": null,
   "metadata": {
    "colab": {
     "base_uri": "https://localhost:8080/"
    },
    "executionInfo": {
     "elapsed": 1024,
     "status": "ok",
     "timestamp": 1613823612637,
     "user": {
      "displayName": "Hugo Launay",
      "photoUrl": "",
      "userId": "00611183967320165963"
     },
     "user_tz": -60
    },
    "id": "ogWk5zMiFErK",
    "outputId": "26dda34b-5fe0-4a54-baa7-952156f5f536"
   },
   "outputs": [],
   "source": [
    "volumes = ...\n",
    "print(volumes.shape)"
   ]
  },
  {
   "cell_type": "code",
   "execution_count": null,
   "metadata": {
    "colab": {
     "base_uri": "https://localhost:8080/",
     "height": 265
    },
    "executionInfo": {
     "elapsed": 936,
     "status": "ok",
     "timestamp": 1613823617895,
     "user": {
      "displayName": "Hugo Launay",
      "photoUrl": "",
      "userId": "00611183967320165963"
     },
     "user_tz": -60
    },
    "id": "496eVcyeGrmN",
    "outputId": "1304b96c-b311-4dfd-fb0a-0cdee769dfc4"
   },
   "outputs": [],
   "source": [
    "plt.hist(..., bins=100)\n",
    "plt.show()"
   ]
  },
  {
   "cell_type": "markdown",
   "metadata": {
    "id": "xIg6iRi7ILG5"
   },
   "source": [
    "The sphericity measures how close to a sphere is a given void (or particle). It can be computed by the ratio between the ideal surface area and the actual surface area of that void $A_i$. The ideal surface area is the surface area of a sphere with the same volume.\n",
    "\n",
    "$\\psi_i = \\dfrac{\\pi^{1/3}(6V_i)^{2/3}}{A_i}$"
   ]
  },
  {
   "cell_type": "markdown",
   "metadata": {
    "id": "Rob2Wk6wJgqX"
   },
   "source": [
    "To compute the surface area of each void we will simply count each voxel on the surface. This can be done by constructing the difference between a void and its erosion by 1 pixel. We can use the `binary_erosion` from the `scipy.ndimage.morphology` package."
   ]
  },
  {
   "cell_type": "code",
   "execution_count": null,
   "metadata": {
    "colab": {
     "base_uri": "https://localhost:8080/",
     "height": 284
    },
    "executionInfo": {
     "elapsed": 1198,
     "status": "ok",
     "timestamp": 1613823622807,
     "user": {
      "displayName": "Hugo Launay",
      "photoUrl": "",
      "userId": "00611183967320165963"
     },
     "user_tz": -60
    },
    "id": "NhZPmq_HJ1Ox",
    "outputId": "ab315e7c-a8cf-451d-a190-78b4d3d7b773"
   },
   "outputs": [],
   "source": [
    "from scipy.ndimage.morphology import binary_erosion\n",
    "\n",
    "surface = ...\n",
    "plt.imshow(surface[:, :, 20].T)"
   ]
  },
  {
   "cell_type": "markdown",
   "metadata": {},
   "source": [
    "Compute the surface area for each void"
   ]
  },
  {
   "cell_type": "code",
   "execution_count": null,
   "metadata": {
    "executionInfo": {
     "elapsed": 4129,
     "status": "ok",
     "timestamp": 1613823629570,
     "user": {
      "displayName": "Hugo Launay",
      "photoUrl": "",
      "userId": "00611183967320165963"
     },
     "user_tz": -60
    },
    "id": "MiQ6rYzTLa1W"
   },
   "outputs": [],
   "source": [
    "surface_areas = [... for i in range(4417)]"
   ]
  },
  {
   "cell_type": "markdown",
   "metadata": {},
   "source": [
    "Compute the sphericity for each void"
   ]
  },
  {
   "cell_type": "code",
   "execution_count": null,
   "metadata": {
    "executionInfo": {
     "elapsed": 750,
     "status": "ok",
     "timestamp": 1613823632073,
     "user": {
      "displayName": "Hugo Launay",
      "photoUrl": "",
      "userId": "00611183967320165963"
     },
     "user_tz": -60
    },
    "id": "7xWl7uzyGwhD"
   },
   "outputs": [],
   "source": [
    "sphericities = ..."
   ]
  },
  {
   "cell_type": "markdown",
   "metadata": {},
   "source": [
    "Plot the distribution of sphericities"
   ]
  },
  {
   "cell_type": "code",
   "execution_count": null,
   "metadata": {
    "colab": {
     "base_uri": "https://localhost:8080/",
     "height": 265
    },
    "executionInfo": {
     "elapsed": 1269,
     "status": "ok",
     "timestamp": 1613823635414,
     "user": {
      "displayName": "Hugo Launay",
      "photoUrl": "",
      "userId": "00611183967320165963"
     },
     "user_tz": -60
    },
    "id": "PR9U60P4Jd7S",
    "outputId": "80b7d363-305c-4871-8f09-1a283f04c6f9"
   },
   "outputs": [],
   "source": [
    "plt.hist(..., bins=100)\n",
    "plt.show()"
   ]
  },
  {
   "cell_type": "markdown",
   "metadata": {},
   "source": [
    "Finally, visualize our 2 features in a plot"
   ]
  },
  {
   "cell_type": "code",
   "execution_count": null,
   "metadata": {
    "colab": {
     "base_uri": "https://localhost:8080/",
     "height": 282
    },
    "executionInfo": {
     "elapsed": 1697,
     "status": "ok",
     "timestamp": 1613823639639,
     "user": {
      "displayName": "Hugo Launay",
      "photoUrl": "",
      "userId": "00611183967320165963"
     },
     "user_tz": -60
    },
    "id": "-mKf-wvvLwwm",
    "outputId": "5f4504d3-f0a8-4bd9-ad3e-8c14f8a2204d"
   },
   "outputs": [],
   "source": [
    "plt.plot(..., ..., 'o', alpha=0.1)\n",
    "plt.xlabel('Void volume')\n",
    "plt.ylabel('Void sphericity')"
   ]
  },
  {
   "cell_type": "markdown",
   "metadata": {
    "id": "M2ZSlkvITaB0"
   },
   "source": [
    "## data normalization\n",
    "\n",
    "This is a good example where we will have to normalize the data so that both volume and sphericity have the same weigth in the distance calculation (K-means is very sensitive to data normalization)."
   ]
  },
  {
   "cell_type": "code",
   "execution_count": null,
   "metadata": {
    "executionInfo": {
     "elapsed": 872,
     "status": "ok",
     "timestamp": 1613823677596,
     "user": {
      "displayName": "Hugo Launay",
      "photoUrl": "",
      "userId": "00611183967320165963"
     },
     "user_tz": -60
    },
    "id": "e3OX-FeXTaUT"
   },
   "outputs": [],
   "source": [
    "volumes_norm = ..."
   ]
  },
  {
   "cell_type": "code",
   "execution_count": null,
   "metadata": {
    "colab": {
     "base_uri": "https://localhost:8080/",
     "height": 265
    },
    "executionInfo": {
     "elapsed": 1200,
     "status": "ok",
     "timestamp": 1613823679961,
     "user": {
      "displayName": "Hugo Launay",
      "photoUrl": "",
      "userId": "00611183967320165963"
     },
     "user_tz": -60
    },
    "id": "rPsILmHNUTG0",
    "outputId": "3e5c9726-bcbd-4904-8421-3f89154d466a"
   },
   "outputs": [],
   "source": [
    "plt.hist(..., bins=100)\n",
    "plt.show()"
   ]
  },
  {
   "cell_type": "code",
   "execution_count": null,
   "metadata": {
    "executionInfo": {
     "elapsed": 1530,
     "status": "ok",
     "timestamp": 1613823683120,
     "user": {
      "displayName": "Hugo Launay",
      "photoUrl": "",
      "userId": "00611183967320165963"
     },
     "user_tz": -60
    },
    "id": "QW9FREIaUh99"
   },
   "outputs": [],
   "source": [
    "sphericities_norm = ..."
   ]
  },
  {
   "cell_type": "markdown",
   "metadata": {
    "id": "lgocSw1PM0iH"
   },
   "source": [
    "# K-means algorithm\n",
    "\n",
    "In the K-means algorithm, the number of classes is fixed (it is a hyper-parameter)"
   ]
  },
  {
   "cell_type": "code",
   "execution_count": null,
   "metadata": {
    "colab": {
     "base_uri": "https://localhost:8080/"
    },
    "executionInfo": {
     "elapsed": 1143,
     "status": "ok",
     "timestamp": 1613823687021,
     "user": {
      "displayName": "Hugo Launay",
      "photoUrl": "",
      "userId": "00611183967320165963"
     },
     "user_tz": -60
    },
    "id": "VejbXjwtL5rO",
    "outputId": "535295fb-5b2e-4efd-e561-981128f35c14"
   },
   "outputs": [],
   "source": [
    "K = 5  # number of classes\n",
    "void_data = np.vstack([volumes_norm, sphericities_norm]).T\n",
    "print(void_data.shape)\n",
    "n = len(void_data)  # number of data points\n",
    "distances= np.zeros(K)  # an array to compute the distance to all centroids for a given point"
   ]
  },
  {
   "cell_type": "code",
   "execution_count": null,
   "metadata": {
    "executionInfo": {
     "elapsed": 1048,
     "status": "ok",
     "timestamp": 1613823690086,
     "user": {
      "displayName": "Hugo Launay",
      "photoUrl": "",
      "userId": "00611183967320165963"
     },
     "user_tz": -60
    },
    "id": "opiqbGAANVvK"
   },
   "outputs": [],
   "source": [
    "labels = np.zeros(n, dtype=np.uint8)"
   ]
  },
  {
   "cell_type": "code",
   "execution_count": null,
   "metadata": {
    "colab": {
     "base_uri": "https://localhost:8080/"
    },
    "executionInfo": {
     "elapsed": 821,
     "status": "ok",
     "timestamp": 1613823692855,
     "user": {
      "displayName": "Hugo Launay",
      "photoUrl": "",
      "userId": "00611183967320165963"
     },
     "user_tz": -60
    },
    "id": "5akRN69GNiEW",
    "outputId": "ad3599be-fc82-4238-bef9-2e8c367adf0a"
   },
   "outputs": [],
   "source": [
    "# picks the initial centroids randomly\n",
    "centroid_indices = ...\n",
    "centroids = ...\n",
    "print(centroids.shape)"
   ]
  },
  {
   "cell_type": "markdown",
   "metadata": {
    "id": "O3-GcwXUOmt5"
   },
   "source": [
    "Create a function to compute the labels for all the data points given the centroids"
   ]
  },
  {
   "cell_type": "code",
   "execution_count": null,
   "metadata": {
    "executionInfo": {
     "elapsed": 816,
     "status": "ok",
     "timestamp": 1613823695716,
     "user": {
      "displayName": "Hugo Launay",
      "photoUrl": "",
      "userId": "00611183967320165963"
     },
     "user_tz": -60
    },
    "id": "YExgojCpN51U"
   },
   "outputs": [],
   "source": [
    "def compute_labels():\n",
    "    \"\"\"compute the labels for all the data points given the centroids.\"\"\"\n",
    "    for i in ...:\n",
    "        # compute the distance with each centroid for this data point\n",
    "        for k ...:\n",
    "            distances[k] = ...\n",
    "        labels[i] = ..."
   ]
  },
  {
   "cell_type": "markdown",
   "metadata": {
    "id": "WhOYnCEjW26d"
   },
   "source": [
    "Create a function to compute the $K$ centroids points given the labels"
   ]
  },
  {
   "cell_type": "code",
   "execution_count": null,
   "metadata": {
    "executionInfo": {
     "elapsed": 1127,
     "status": "ok",
     "timestamp": 1613823699900,
     "user": {
      "displayName": "Hugo Launay",
      "photoUrl": "",
      "userId": "00611183967320165963"
     },
     "user_tz": -60
    },
    "id": "AY-GzVmsQGgD"
   },
   "outputs": [],
   "source": [
    "def compute_centroids():\n",
    "    \"\"\"compute the new centroids given the labels.\"\"\"\n",
    "    for k in ...:\n",
    "        # get all the point in cluster k and average them\n",
    "        centroids[k] = ..."
   ]
  },
  {
   "cell_type": "markdown",
   "metadata": {
    "id": "LrxCw_aEXBgO"
   },
   "source": [
    "Now run the algorithm: at each step we compute the labels (given the centroids) and then compute the centroids (given the labels). We stop when the centroids did not change with respect to the previous iteration or if we reach a maximum number of iterations."
   ]
  },
  {
   "cell_type": "code",
   "execution_count": null,
   "metadata": {
    "colab": {
     "base_uri": "https://localhost:8080/"
    },
    "executionInfo": {
     "elapsed": 4446,
     "status": "ok",
     "timestamp": 1613823706564,
     "user": {
      "displayName": "Hugo Launay",
      "photoUrl": "",
      "userId": "00611183967320165963"
     },
     "user_tz": -60
    },
    "id": "rmrW-MAeQ81C",
    "outputId": "90e1f8b3-c057-437e-c454-e3e38547c74b"
   },
   "outputs": [],
   "source": [
    "# run the K-means algorithm\n",
    "max_iter = 50\n",
    "iter = 1\n",
    "\n",
    "previous_centroids = ...\n",
    "...  # compute labels\n",
    "...  # compute centroids\n",
    "\n",
    "while ...:\n",
    "    print('K-means iteration %d' % iter)\n",
    "    previous_centroids = centroids.copy()\n",
    "    ...  # compute labels\n",
    "    ...  # compute centroids\n",
    "    iter += 1\n",
    "\n",
    "print('done')"
   ]
  },
  {
   "cell_type": "markdown",
   "metadata": {},
   "source": [
    "Make a scatter plot to visualize our classification"
   ]
  },
  {
   "cell_type": "code",
   "execution_count": null,
   "metadata": {
    "colab": {
     "base_uri": "https://localhost:8080/",
     "height": 500
    },
    "executionInfo": {
     "elapsed": 1657,
     "status": "ok",
     "timestamp": 1613823732500,
     "user": {
      "displayName": "Hugo Launay",
      "photoUrl": "",
      "userId": "00611183967320165963"
     },
     "user_tz": -60
    },
    "id": "TcttVP-GRD58",
    "outputId": "50983384-e9c3-4b57-e4f8-f906e227e4ca"
   },
   "outputs": [],
   "source": [
    "plt.figure(figsize=(10, 8))\n",
    "scatter = plt.scatter(..., ..., c=labels, alpha=0.5)  # data points\n",
    "plt.scatter(..., ..., c=range(K), marker='s', edgecolors='k', s=60)  # centroids\n",
    "plt.xlabel('Void volume (normalized)')\n",
    "plt.ylabel('Void sphericity (normalized)')\n",
    "plt.legend(handles=scatter.legend_elements()[0], labels=['1', '2', '3', '4', '5'], title='Class')"
   ]
  },
  {
   "cell_type": "markdown",
   "metadata": {
    "id": "JGE4hc82WIhU"
   },
   "source": [
    "## Plot a representant of each class\n",
    "We use the closest data point from the centroid to find the best representatn of each class."
   ]
  },
  {
   "cell_type": "code",
   "execution_count": null,
   "metadata": {
    "colab": {
     "base_uri": "https://localhost:8080/"
    },
    "executionInfo": {
     "elapsed": 1156,
     "status": "ok",
     "timestamp": 1613823739225,
     "user": {
      "displayName": "Hugo Launay",
      "photoUrl": "",
      "userId": "00611183967320165963"
     },
     "user_tz": -60
    },
    "id": "AgNqaauYWT8O",
    "outputId": "a03974d6-623b-41d6-b0f1-7cecb95ce27c"
   },
   "outputs": [],
   "source": [
    "# find the closest data point to each class\n",
    "representants = np.empty(K, dtype=int)\n",
    "all_distances = np.zeros(n)\n",
    "\n",
    "for k in range(K):\n",
    "    for i in range(n):\n",
    "        all_distances[i] = ...\n",
    "    representants[k] = ...\n",
    "print(representants)"
   ]
  },
  {
   "cell_type": "code",
   "execution_count": null,
   "metadata": {
    "colab": {
     "base_uri": "https://localhost:8080/"
    },
    "executionInfo": {
     "elapsed": 566,
     "status": "ok",
     "timestamp": 1613823740694,
     "user": {
      "displayName": "Hugo Launay",
      "photoUrl": "",
      "userId": "00611183967320165963"
     },
     "user_tz": -60
    },
    "id": "TlScPmH8aUqI",
    "outputId": "28430ddf-e9b8-4392-bdef-cb052e07d606"
   },
   "outputs": [],
   "source": [
    "void_data[representants]"
   ]
  },
  {
   "cell_type": "code",
   "execution_count": null,
   "metadata": {
    "colab": {
     "base_uri": "https://localhost:8080/",
     "height": 159
    },
    "executionInfo": {
     "elapsed": 1047,
     "status": "ok",
     "timestamp": 1613823743855,
     "user": {
      "displayName": "Hugo Launay",
      "photoUrl": "",
      "userId": "00611183967320165963"
     },
     "user_tz": -60
    },
    "id": "Z7z7ffLSWMh0",
    "outputId": "4b5214f1-4b4a-4bae-acff-7fb9f5fe5166"
   },
   "outputs": [],
   "source": [
    "plt.figure(figsize=(10, 2))\n",
    "for k in range(K):\n",
    "    ax = plt.subplot(1, K, k + 1)\n",
    "    ax.imshow(np.sum(data[representants[k]].T, axis=2), interpolation='nearest')\n",
    "    ax.axis('off')\n",
    "    ax.set_title('k=%d' % (k + 1))\n",
    "plt.subplots_adjust(left=0.05, right=0.95, bottom=0.04, top=0.96)\n",
    "plt.show()"
   ]
  },
  {
   "cell_type": "markdown",
   "metadata": {
    "id": "GGxybw0PeigI"
   },
   "source": [
    "## bonus: plotting the voids in 3D\n",
    "\n",
    "Here you have the code to visualize the voids in 3D using a voxel representation"
   ]
  },
  {
   "cell_type": "code",
   "execution_count": null,
   "metadata": {
    "executionInfo": {
     "elapsed": 864,
     "status": "ok",
     "timestamp": 1613823758504,
     "user": {
      "displayName": "Hugo Launay",
      "photoUrl": "",
      "userId": "00611183967320165963"
     },
     "user_tz": -60
    },
    "id": "S8bzlL_jenIO"
   },
   "outputs": [],
   "source": [
    "l = 40\n",
    "x, y, z = np.mgrid[0:l, 0:l, 0:l]\n",
    "data_ = np.indices((l, l, l))[0] * np.indices((l, l, l))[1] * np.indices((l, l, l))[2]\n",
    "data_ = data_ / np.max(data_.astype(float))\n",
    "alpha = 1.\n",
    "colors = plt.cm.cool(data_) * [1, 1, 1, alpha]"
   ]
  },
  {
   "cell_type": "code",
   "execution_count": null,
   "metadata": {
    "colab": {
     "base_uri": "https://localhost:8080/",
     "height": 303
    },
    "executionInfo": {
     "elapsed": 21170,
     "status": "ok",
     "timestamp": 1613823781785,
     "user": {
      "displayName": "Hugo Launay",
      "photoUrl": "",
      "userId": "00611183967320165963"
     },
     "user_tz": -60
    },
    "id": "-0F3v6PCfrJQ",
    "outputId": "b4d8bee3-e186-4658-c33e-bf70210b5615"
   },
   "outputs": [],
   "source": [
    "fig = plt.figure(figsize=(K * 5, 5))\n",
    "for k in range(K):\n",
    "    ax = fig.add_subplot(1, K, k + 1, projection='3d')\n",
    "    ax.voxels(data[representants[k]], facecolors=colors, edgecolor='k')\n",
    "    ax.view_init(elev=40., azim=145)\n",
    "    ax.grid(False)\n",
    "    ax.set_title('k=%d' % (k + 1))\n",
    "    plt.axis('tight')\n",
    "    plt.axis('off')\n",
    "plt.show()"
   ]
  },
  {
   "cell_type": "markdown",
   "metadata": {
    "id": "YbLCLNxuUGA0"
   },
   "source": [
    "# Using K-means with scikit-learn\n",
    "\n",
    "Here you will find the code to use K-means with the popular machine learning package scikit-learn. You are encouraged to learn to use this package altough writting code yourself is always a good exercice."
   ]
  },
  {
   "cell_type": "code",
   "execution_count": null,
   "metadata": {
    "executionInfo": {
     "elapsed": 2006,
     "status": "ok",
     "timestamp": 1613823804410,
     "user": {
      "displayName": "Hugo Launay",
      "photoUrl": "",
      "userId": "00611183967320165963"
     },
     "user_tz": -60
    },
    "id": "cn9fnc-xUBat"
   },
   "outputs": [],
   "source": [
    "from sklearn.cluster import KMeans"
   ]
  },
  {
   "cell_type": "code",
   "execution_count": null,
   "metadata": {
    "executionInfo": {
     "elapsed": 1100,
     "status": "ok",
     "timestamp": 1613823808703,
     "user": {
      "displayName": "Hugo Launay",
      "photoUrl": "",
      "userId": "00611183967320165963"
     },
     "user_tz": -60
    },
    "id": "4e8-0fsFcU-k"
   },
   "outputs": [],
   "source": [
    "kmeans = KMeans(n_clusters=..., random_state=42).fit(...)"
   ]
  },
  {
   "cell_type": "code",
   "execution_count": null,
   "metadata": {
    "executionInfo": {
     "elapsed": 1279,
     "status": "ok",
     "timestamp": 1613823810803,
     "user": {
      "displayName": "Hugo Launay",
      "photoUrl": "",
      "userId": "00611183967320165963"
     },
     "user_tz": -60
    },
    "id": "e-KZVeHtc9aT"
   },
   "outputs": [],
   "source": [
    "y = kmeans.fit_predict(...)"
   ]
  },
  {
   "cell_type": "code",
   "execution_count": null,
   "metadata": {
    "colab": {
     "base_uri": "https://localhost:8080/",
     "height": 500
    },
    "executionInfo": {
     "elapsed": 1643,
     "status": "ok",
     "timestamp": 1613823814030,
     "user": {
      "displayName": "Hugo Launay",
      "photoUrl": "",
      "userId": "00611183967320165963"
     },
     "user_tz": -60
    },
    "id": "ewhS_gGodWx0",
    "outputId": "57d00bbc-737c-4e9d-8656-d6e2db80680b"
   },
   "outputs": [],
   "source": [
    "plt.figure(figsize=(10, 8))\n",
    "scatter = plt.scatter(volumes_norm, sphericities_norm, c=y, alpha=0.5)\n",
    "plt.scatter(kmeans.cluster_centers_[:, 0], kmeans.cluster_centers_[:, 1], c=range(K), marker='s', edgecolors='k', s=60)\n",
    "plt.xlabel('Void volume (normalized)')\n",
    "plt.ylabel('Void sphericity (normalized)')\n",
    "plt.legend(handles=scatter.legend_elements()[0], labels=['1', '2', '3', '4', '5'], title='Class')"
   ]
  }
 ],
 "metadata": {
  "colab": {
   "collapsed_sections": [
    "M2ZSlkvITaB0",
    "JGE4hc82WIhU",
    "GGxybw0PeigI"
   ],
   "name": "voids_kmeans.ipynb",
   "provenance": [],
   "toc_visible": true
  },
  "kernelspec": {
   "display_name": "Python 3",
   "language": "python",
   "name": "python3"
  },
  "language_info": {
   "codemirror_mode": {
    "name": "ipython",
    "version": 3
   },
   "file_extension": ".py",
   "mimetype": "text/x-python",
   "name": "python",
   "nbconvert_exporter": "python",
   "pygments_lexer": "ipython3",
   "version": "3.7.4"
  }
 },
 "nbformat": 4,
 "nbformat_minor": 1
}
