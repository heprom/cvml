{
 "cells": [
  {
   "cell_type": "markdown",
   "metadata": {},
   "source": [
    "# Deep Learning\n",
    "\n",
    "In this notebook, we move from single layer to networks with at least 2 layers. With this the number of neurons drammattically increases. Building on previous tutorial, we will program our own class to handle any number of layers. We will first train a very simple 2 layer network to solve the XOR problem and verify that we can target non linearly separable data sets. We then will train a larger 2 hidden layer network to solve the MNIST data set with an accuracy of more that 90%."
   ]
  },
  {
   "cell_type": "markdown",
   "metadata": {},
   "source": [
    "Run the notebook in Google colab:\n",
    "https://colab.research.google.com/github/heprom/cvml/blob/main/corrections/deep_learning_cor.ipynb"
   ]
  },
  {
   "cell_type": "markdown",
   "metadata": {},
   "source": [
    "## Quick Implementation of a two layer NN\n",
    "\n",
    "Two layers with two inputs: $w^{(1)}$ has size (3, 3) including the bias and $w^{(2)}$ has size (3, 1) to give one output."
   ]
  },
  {
   "cell_type": "code",
   "execution_count": 12,
   "metadata": {},
   "outputs": [
    {
     "name": "stdout",
     "output_type": "stream",
     "text": [
      "* model params: [[-0.4167578474054706, -0.056266827226329474, -2.136196095668454], [1.6402708084049886, -1.7934355851948631, -0.841747365656204], [0.5028814171580428, -1.2452880866072316, -1.057952218862339]], [[-0.9090076149268493], [0.5514540445464243], [2.2922080128149576]]\n",
      "0 4.425280442161884\n",
      "100 1.1813667142828854\n",
      "200 1.0886791779606786\n",
      "300 1.0464476198648656\n",
      "400 1.0212613581933874\n",
      "500 1.0025142967405978\n",
      "600 0.9866642844222313\n",
      "700 0.9725542978070989\n",
      "800 0.9597839247499763\n",
      "900 0.9481591999918622\n",
      "1000 0.9375254519895075\n",
      "1100 0.9277291095318374\n",
      "1200 0.9186175371198113\n",
      "1300 0.91004638896621\n",
      "1400 0.9018856829315507\n",
      "1500 0.8940230565091447\n",
      "1600 0.8863647164120947\n",
      "1700 0.878834900328173\n",
      "1800 0.8713744920874976\n",
      "1900 0.863939194665001\n",
      "2000 0.8564974889271202\n",
      "2100 0.8490285036873778\n",
      "2200 0.8415198759923521\n",
      "2300 0.8339656657237009\n",
      "2400 0.826364385917397\n",
      "2500 0.8187172072092552\n",
      "2600 0.8110263861281419\n",
      "2700 0.8032939525208984\n",
      "2800 0.7955206741163103\n",
      "2900 0.7877052997871725\n",
      "3000 0.7798440703355938\n",
      "3100 0.7719304779726933\n",
      "3200 0.7639552528309508\n",
      "3300 0.7559065551899458\n",
      "3400 0.7477703529033912\n",
      "3500 0.7395309612955079\n",
      "3600 0.7311717135700044\n",
      "3700 0.7226757095960268\n",
      "3800 0.7140265569286441\n",
      "3900 0.7052089701330839\n",
      "4000 0.696209038432867\n",
      "4100 0.6870139207607668\n",
      "4200 0.677610702844742\n",
      "4300 0.6679841776915255\n",
      "4400 0.6581134057562106\n",
      "4500 0.6479670696608785\n",
      "4600 0.6374978274787436\n",
      "4700 0.6266360393219156\n",
      "4800 0.6152833660175361\n",
      "4900 0.6033068559152567\n",
      "5000 0.5905343833264081\n",
      "5100 0.5767528931252954\n",
      "5200 0.5617120262517035\n",
      "5300 0.5451372511213906\n",
      "5400 0.5267576972734579\n",
      "5500 0.5063520452968713\n",
      "5600 0.4838073115992031\n",
      "5700 0.45916917185386363\n",
      "5800 0.4326495289993959\n",
      "5900 0.40457167761259905\n",
      "6000 0.375282762317212\n",
      "6100 0.3450997007443166\n",
      "6200 0.3143228626784137\n",
      "6300 0.2832847296784652\n",
      "6400 0.25238093016969904\n",
      "6500 0.22206482862652777\n",
      "6600 0.1928178558061152\n",
      "6700 0.1651114066176615\n",
      "6800 0.1393686542394503\n",
      "6900 0.11593062262021785\n",
      "7000 0.09503057907463729\n",
      "7100 0.0767805030357865\n",
      "7200 0.061171575917960776\n",
      "7300 0.04808785778335303\n",
      "7400 0.037329721015596146\n",
      "7500 0.028642132285353762\n",
      "7600 0.021742843166934207\n",
      "7700 0.01634668578680494\n",
      "7800 0.012183853627204387\n",
      "7900 0.009011667575148288\n",
      "8000 0.006620502383414427\n",
      "8100 0.004835170289783017\n",
      "8200 0.0035132110240390993\n",
      "8300 0.0025413864786718848\n",
      "8400 0.001831385978831392\n",
      "8500 0.0013154316796016134\n",
      "8600 0.000942198974471037\n",
      "8700 0.0006732592045107905\n",
      "8800 0.00048011165195927506\n",
      "8900 0.0003417870879574332\n",
      "9000 0.0002429610068059073\n",
      "9100 0.00017249734022301287\n",
      "9200 0.0001223421303553197\n",
      "9300 8.669377774272964e-05\n",
      "9400 6.138719754368941e-05\n",
      "9500 4.344064398234683e-05\n",
      "9600 3.0724585928365227e-05\n",
      "9700 2.172117345640739e-05\n",
      "9800 1.535035681582994e-05\n",
      "9900 1.0844694408113029e-05\n",
      "* new model params: [[0.282553111578775, 0.7848343982200824, 1.397106922566045], [2.5910788889092817, -3.8038805679307295, -1.3448870357062594], [2.656873882685275, -3.9624611643578764, -1.368194295399015]]\n"
     ]
    }
   ],
   "source": [
    "import numpy as np\n",
    "from matplotlib import pyplot as plt, cm\n",
    "\n",
    "X = np.array([[1, 0, 0], [1, 0, 1], [1, 1, 0], [1, 1, 1]])  # include term for the bias trick\n",
    "y = np.array([[0], [1], [1], [0]])\n",
    "\n",
    "np.random.seed(2)\n",
    "w1 = np.random.randn(3, 3)  # first layer\n",
    "w2 = np.random.randn(3, 1)  # second layer\n",
    "print('* model params: {}, {}'.format(w1.tolist(), w2.tolist()))\n",
    "eta = 1e-2  # learning rate\n",
    "n_epochs = 10000\n",
    "\n",
    "for t in range(n_epochs):\n",
    "    # forward pass\n",
    "    h = 1 / (1 + np.exp(-X.dot(w1)))  # activation of the first layer\n",
    "    #print(h.shape)\n",
    "    y_pred = h.dot(w2)  # activation of the second layer\n",
    "    loss = np.square(y_pred - y).sum()\n",
    "    if t % 100 == 0:\n",
    "        print(t, loss)\n",
    "\n",
    "    # backprop\n",
    "    #print('y_pred shape: {}'.format(y_pred.shape))\n",
    "    #print('y shape: {}'.format(y.shape))\n",
    "    grad_y_pred = 2. * (y_pred - y)\n",
    "    grad_w2 = h.T.dot(grad_y_pred)\n",
    "    #print('w2.T shape: {}'.format(w2.T.shape))\n",
    "    #print('grad_w2 shape: {}'.format(grad_w2.shape))\n",
    "    grad_h = grad_y_pred.dot(w2.T)\n",
    "    #print('grad_h shape: {}'.format(grad_h.shape))\n",
    "    grad_w1 = X.T.dot(grad_h * h * (1 - h))\n",
    "\n",
    "    # update rule\n",
    "    w1 -= eta * grad_w1\n",
    "    w2 -= eta * grad_w2\n",
    "print('* new model params: {}'.format(w1.tolist(), w2.tolist()))\n"
   ]
  },
  {
   "cell_type": "markdown",
   "metadata": {},
   "source": [
    "print the results of the predictions with our trained model"
   ]
  },
  {
   "cell_type": "code",
   "execution_count": 13,
   "metadata": {},
   "outputs": [
    {
     "name": "stdout",
     "output_type": "stream",
     "text": [
      "data=[1 0 0], ground-truth=[0], out=0.001, y=0\n",
      "data=[1 0 1], ground-truth=[1], out=0.999, y=1\n",
      "data=[1 1 0], ground-truth=[1], out=0.999, y=1\n",
      "data=[1 1 1], ground-truth=[0], out=0.002, y=0\n"
     ]
    }
   ],
   "source": [
    "for (xi, yi) in zip(X, y):\n",
    "    h = 1 / (1 + np.exp(-xi.dot(w1)))\n",
    "    out = np.dot(h, w2)\n",
    "    y_pred = 1 if out > 0.5 else 0\n",
    "    print('data={}, ground-truth={}, out={:.3f}, y={}'.format(xi, yi, out[0], y_pred))\n"
   ]
  },
  {
   "cell_type": "markdown",
   "metadata": {},
   "source": [
    "## General Implementation\n",
    "\n",
    "We modify our previous implementation of a Neural Network to include any number of layers. Additionnally, each layer can have any number of neurons."
   ]
  },
  {
   "cell_type": "code",
   "execution_count": 7,
   "metadata": {},
   "outputs": [
    {
     "name": "stdout",
     "output_type": "stream",
     "text": [
      "[4 5 6]\n",
      "[[4 5 6]]\n"
     ]
    },
    {
     "data": {
      "text/plain": [
       "(1, 3)"
      ]
     },
     "execution_count": 7,
     "metadata": {},
     "output_type": "execute_result"
    }
   ],
   "source": [
    "x = np.array([4, 5, 6])\n",
    "print(x)\n",
    "print(np.atleast_2d(x))\n",
    "np.atleast_2d(x).shape"
   ]
  },
  {
   "cell_type": "code",
   "execution_count": 8,
   "metadata": {},
   "outputs": [],
   "source": [
    "class NeuralNetwork:\n",
    "    \"\"\"Artificial Neural Network class. \n",
    "    \n",
    "    A general Feed-Forward Neural Network. Here, the activation function is a sigmoid, \n",
    "    the loss is computed using the squared error between the target and \n",
    "    the prediction. Learning the parameters is achieved using back-propagation \n",
    "    and gradient descent\n",
    "    \"\"\"\n",
    "    \n",
    "    def __init__(self, layers, eta=0.1, rand_seed=42):\n",
    "        \"\"\"Initialisation routine.\"\"\"\n",
    "        np.random.seed(rand_seed)\n",
    "        self.W = []\n",
    "        self.layers = layers  # keep a record of this\n",
    "        # loop on the layers except for the last one\n",
    "        for i in np.arange(0, len(layers) - 2):\n",
    "            w = np.random.randn(layers[i] + 1, layers[i+1] + 1)\n",
    "            self.W.append(w)\n",
    "        # the last layer does not need a bias for its output\n",
    "        w = np.random.randn(layers[-2] + 1, layers[-1])\n",
    "        self.W.append(w)\n",
    "        self.eta = eta  # learning rate\n",
    "        self.loss_history = []\n",
    "    \n",
    "    def __repr__(self):\n",
    "        \"\"\"Simple string representation of the network.\"\"\"\n",
    "        s = \"NeuralNetwork: {}\".format('-'.join(str(l) for l in self.layers))\n",
    "        # compute the number of parameters for this model\n",
    "        n = np.sum([np.prod(nn.W[i].shape) for i in range(len(nn.W))])\n",
    "        s += \" with {} parameters\".format(n)\n",
    "        return s\n",
    "\n",
    "    def sigmoid(self, x):\n",
    "        \"\"\"Our activation function.\"\"\"\n",
    "        return 1 / (1 + np.exp(-x))\n",
    "    \n",
    "    def sigmoid_grad(self, x):\n",
    "        \"\"\"Gradient of the sigmoid function.\"\"\"\n",
    "        return self.sigmoid(x) * (1 - self.sigmoid(x))\n",
    "    \n",
    "    def predict(self, X, bias_trick=True):\n",
    "        \"\"\"Compute the output of the network for the input X. \n",
    "        Notice that out value of bounded between 0 and 1.\"\"\"\n",
    "        p = np.atleast_2d(X)\n",
    "        if bias_trick:\n",
    "            # bias trick\n",
    "            p = np.c_[np.ones((p.shape[0])), p]\n",
    "        for layer in np.arange(0, len(self.layers) - 1):\n",
    "            p = self.sigmoid(np.dot(p, self.W[layer]))\n",
    "        return p\n",
    "    \n",
    "    def loss(self, X, y, bias_trick=False):\n",
    "        \"\"\"Compute the squared error loss for a given set of inputs.\"\"\"\n",
    "        y = np.atleast_2d(y)\n",
    "        y_pred = self.predict(X, bias_trick=bias_trick)\n",
    "        loss = np.sum((y_pred - y) ** 2)\n",
    "        return loss\n",
    "        \n",
    "    def back_propagation(self, X, y):\n",
    "        \"\"\"Conduct backpropagation to update the weights.\"\"\"\n",
    "        # we need to keep a list of the activation of each layer\n",
    "        A = [np.atleast_2d(X)]\n",
    "        \n",
    "        # forward pass\n",
    "        for layer in np.arange(0, len(self.layers) - 1):\n",
    "            a = A[layer].dot(self.W[layer])\n",
    "            #print(layer, a)\n",
    "            A.append(self.sigmoid(a))\n",
    "\n",
    "        # backprop phase\n",
    "        D = [(A[-1] - y) * A[-1] * (1 - A[-1])]\n",
    "        for layer in np.arange(len(A) - 2, 0, -1):\n",
    "            #print(layer)\n",
    "            delta = D[-1].dot(self.W[layer].T)\n",
    "            delta = delta * A[layer] * (1 - A[layer])\n",
    "            D.append(delta)\n",
    "        D = D[::-1]  # reverse the order\n",
    "        \n",
    "        # update weights\n",
    "        for layer in np.arange(0, len(self.layers) - 1):\n",
    "            grad_W = 2 * A[layer].T.dot(D[layer])\n",
    "            self.W[layer] -= self.eta * grad_W\n",
    "\n",
    "    def fit(self, X, y, n_epochs=10, method='batch', display_update=100):\n",
    "        \"\"\"Perform gradient descent on a given number of epochs to update the weights.\"\"\"\n",
    "        # bias trick: add a column of 1 to X\n",
    "        X = np.c_[np.ones((X.shape[0])), X]\n",
    "        for i_epoch in range(n_epochs):\n",
    "            if method == 'batch':\n",
    "                # perform backprop on the whole training set (batch)\n",
    "                self.back_propagation(X, y)\n",
    "            else:\n",
    "                # here we update the weight for every data point (SGD)\n",
    "                for (xi, yi) in zip(X, y):\n",
    "                    self.back_propagation(xi, yi)\n",
    "            # an epoch has passed, compute the loss\n",
    "            loss = self.loss(X, y)\n",
    "            self.loss_history.append(loss)\n",
    "            if i_epoch == 0 or (1 + i_epoch) % display_update == 0:\n",
    "                print(\"epoch={}, loss={:.3f}\".format(1 + i_epoch, loss))\n"
   ]
  },
  {
   "cell_type": "markdown",
   "metadata": {},
   "source": [
    "## XOR problem"
   ]
  },
  {
   "cell_type": "code",
   "execution_count": 9,
   "metadata": {},
   "outputs": [],
   "source": [
    "# define our 2-2-1 neural network and train it\n",
    "np.random.seed(42)\n",
    "nn = NeuralNetwork(layers=[2, 2, 1], eta=0.5)"
   ]
  },
  {
   "cell_type": "code",
   "execution_count": 10,
   "metadata": {},
   "outputs": [
    {
     "name": "stdout",
     "output_type": "stream",
     "text": [
      "NeuralNetwork: 2-2-1 with 12 parameters\n"
     ]
    }
   ],
   "source": [
    "# test our __repr__function\n",
    "print(nn)"
   ]
  },
  {
   "cell_type": "code",
   "execution_count": 11,
   "metadata": {},
   "outputs": [
    {
     "name": "stdout",
     "output_type": "stream",
     "text": [
      "W shape: [(3, 3), (3, 1)]\n",
      "initial weights: [array([[ 0.49671415, -0.1382643 ,  0.64768854],\n",
      "       [ 1.52302986, -0.23415337, -0.23413696],\n",
      "       [ 1.57921282,  0.76743473, -0.46947439]]), array([[ 0.54256004],\n",
      "       [-0.46341769],\n",
      "       [-0.46572975]])]\n",
      "epoch=1, loss=0.977\n",
      "epoch=50, loss=0.950\n",
      "epoch=100, loss=0.891\n",
      "epoch=150, loss=0.773\n",
      "epoch=200, loss=0.603\n",
      "epoch=250, loss=0.370\n",
      "epoch=300, loss=0.181\n",
      "epoch=350, loss=0.097\n",
      "epoch=400, loss=0.061\n",
      "epoch=450, loss=0.043\n",
      "epoch=500, loss=0.033\n",
      "epoch=550, loss=0.026\n",
      "epoch=600, loss=0.021\n",
      "epoch=650, loss=0.018\n",
      "epoch=700, loss=0.016\n",
      "epoch=750, loss=0.014\n",
      "epoch=800, loss=0.012\n",
      "epoch=850, loss=0.011\n",
      "epoch=900, loss=0.010\n",
      "epoch=950, loss=0.009\n",
      "epoch=1000, loss=0.008\n"
     ]
    }
   ],
   "source": [
    "X = np.array([[0, 0], [0, 1], [1, 0], [1, 1]])\n",
    "y = np.array([[0], [1], [1], [0]])\n",
    "print('W shape: {}'.format([Wi.shape for Wi in nn.W]))\n",
    "print('initial weights:', nn.W)\n",
    "nn.fit(X, y, n_epochs=1000, method='SGD', display_update=50)"
   ]
  },
  {
   "cell_type": "code",
   "execution_count": 12,
   "metadata": {},
   "outputs": [
    {
     "name": "stdout",
     "output_type": "stream",
     "text": [
      "data=[0 0], ground-truth=[0], out=0.043, y=0\n",
      "data=[0 1], ground-truth=[1], out=0.970, y=1\n",
      "data=[1 0], ground-truth=[1], out=0.943, y=1\n",
      "data=[1 1], ground-truth=[0], out=0.050, y=0\n"
     ]
    }
   ],
   "source": [
    "for (xi, yi) in zip(X, y):\n",
    "    out = nn.predict(xi)\n",
    "    y_pred = 1 if out > 0.5 else 0\n",
    "    print('data={}, ground-truth={}, out={:.3f}, y={}'.format(xi, yi, out[0][0], y_pred))\n"
   ]
  },
  {
   "cell_type": "code",
   "execution_count": 13,
   "metadata": {},
   "outputs": [
    {
     "data": {
      "image/png": "[encoded data removed]",
      "text/plain": [
       "<Figure size 450x400 with 1 Axes>"
      ]
     },
     "metadata": {},
     "output_type": "display_data"
    }
   ],
   "source": [
    "plt.figure(figsize=(4.5, 4))\n",
    "plt.plot(nn.loss_history, linewidth=3)\n",
    "plt.xlabel('Epoch', fontsize=14)\n",
    "plt.ylabel('Loss', fontsize=14)\n",
    "plt.subplots_adjust(left=0.15, top=0.95)\n",
    "plt.show()"
   ]
  },
  {
   "cell_type": "markdown",
   "metadata": {},
   "source": [
    "## Solving the MNIST data set"
   ]
  },
  {
   "cell_type": "code",
   "execution_count": 14,
   "metadata": {},
   "outputs": [],
   "source": [
    "from sklearn import datasets\n",
    "from sklearn.model_selection import train_test_split\n",
    "\n",
    "digits = datasets.load_digits()"
   ]
  },
  {
   "cell_type": "code",
   "execution_count": 15,
   "metadata": {},
   "outputs": [
    {
     "data": {
      "text/plain": [
       "dict_keys(['data', 'target', 'frame', 'feature_names', 'target_names', 'images', 'DESCR'])"
      ]
     },
     "execution_count": 15,
     "metadata": {},
     "output_type": "execute_result"
    }
   ],
   "source": [
    "digits.keys()"
   ]
  },
  {
   "cell_type": "code",
   "execution_count": 16,
   "metadata": {},
   "outputs": [
    {
     "name": "stdout",
     "output_type": "stream",
     "text": [
      ".. _digits_dataset:\n",
      "\n",
      "Optical recognition of handwritten digits dataset\n",
      "--------------------------------------------------\n",
      "\n",
      "**Data Set Characteristics:**\n",
      "\n",
      "    :Number of Instances: 1797\n",
      "    :Number of Attributes: 64\n",
      "    :Attribute Information: 8x8 image of integer pixels in the range 0..16.\n",
      "    :Missing Attribute Values: None\n",
      "    :Creator: E. Alpaydin (alpaydin '@' boun.edu.tr)\n",
      "    :Date: July; 1998\n",
      "\n",
      "This is a copy of the test set of the UCI ML hand-written digits datasets\n",
      "https://archive.ics.uci.edu/ml/datasets/Optical+Recognition+of+Handwritten+Digits\n",
      "\n",
      "The data set contains images of hand-written digits: 10 classes where\n",
      "each class refers to a digit.\n",
      "\n",
      "Preprocessing programs made available by NIST were used to extract\n",
      "normalized bitmaps of handwritten digits from a preprinted form. From a\n",
      "total of 43 people, 30 contributed to the training set and different 13\n",
      "to the test set. 32x32 bitmaps are divided into nonoverlapping blocks of\n",
      "4x4 and the number of on pixels are counted in each block. This generates\n",
      "an input matrix of 8x8 where each element is an integer in the range\n",
      "0..16. This reduces dimensionality and gives invariance to small\n",
      "distortions.\n",
      "\n",
      "For info on NIST preprocessing routines, see M. D. Garris, J. L. Blue, G.\n",
      "T. Candela, D. L. Dimmick, J. Geist, P. J. Grother, S. A. Janet, and C.\n",
      "L. Wilson, NIST Form-Based Handprint Recognition System, NISTIR 5469,\n",
      "1994.\n",
      "\n",
      "|details-start|\n",
      "**References**\n",
      "|details-split|\n",
      "\n",
      "- C. Kaynak (1995) Methods of Combining Multiple Classifiers and Their\n",
      "  Applications to Handwritten Digit Recognition, MSc Thesis, Institute of\n",
      "  Graduate Studies in Science and Engineering, Bogazici University.\n",
      "- E. Alpaydin, C. Kaynak (1998) Cascading Classifiers, Kybernetika.\n",
      "- Ken Tang and Ponnuthurai N. Suganthan and Xi Yao and A. Kai Qin.\n",
      "  Linear dimensionalityreduction using relevance weighted LDA. School of\n",
      "  Electrical and Electronic Engineering Nanyang Technological University.\n",
      "  2005.\n",
      "- Claudio Gentile. A New Approximate Maximal Margin Classification\n",
      "  Algorithm. NIPS. 2000.\n",
      "\n",
      "|details-end|\n"
     ]
    }
   ],
   "source": [
    "print(digits.DESCR)"
   ]
  },
  {
   "cell_type": "code",
   "execution_count": 17,
   "metadata": {},
   "outputs": [
    {
     "name": "stdout",
     "output_type": "stream",
     "text": [
      "(1797, 8, 8)\n",
      "float64\n",
      "0.0\n",
      "16.0\n",
      "(1797, 64)\n",
      "float64\n",
      "[[ 0.  0.  0.  5. 14.  2.  0.  0.]\n",
      " [ 0.  0.  1. 13. 11.  0.  0.  0.]\n",
      " [ 0.  0.  5. 16.  2.  0.  0.  0.]\n",
      " [ 0.  0.  6. 15.  5.  0.  0.  0.]\n",
      " [ 0.  1. 15. 16. 15. 11.  1.  0.]\n",
      " [ 0.  2. 13. 14.  1. 12.  9.  0.]\n",
      " [ 0.  0.  4. 16.  7. 13.  9.  0.]\n",
      " [ 0.  0.  0.  5. 16. 15.  3.  0.]]\n"
     ]
    },
    {
     "data": {
      "text/plain": [
       "64"
      ]
     },
     "execution_count": 17,
     "metadata": {},
     "output_type": "execute_result"
    }
   ],
   "source": [
    "print(digits['images'].shape)\n",
    "print(digits['images'].dtype)\n",
    "print(digits['images'].min())\n",
    "print(digits['images'].max())\n",
    "print(digits['data'].shape)\n",
    "print(digits['data'].dtype)\n",
    "\n",
    "index = 34\n",
    "print(digits['data'][index, :].reshape((8, 8)))\n",
    "np.sum(digits['data'][index, :] == digits['images'][index].ravel())"
   ]
  },
  {
   "cell_type": "markdown",
   "metadata": {},
   "source": [
    "plot the image with index `index`"
   ]
  },
  {
   "cell_type": "code",
   "execution_count": 18,
   "metadata": {},
   "outputs": [
    {
     "data": {
      "image/png": "[encoded data removed]",
      "text/plain": [
       "<Figure size 640x480 with 1 Axes>"
      ]
     },
     "metadata": {},
     "output_type": "display_data"
    }
   ],
   "source": [
    "plt.imshow(digits['images'][index], cmap=cm.gray_r)\n",
    "plt.title('ground-truth: %d' % digits.target[index])\n",
    "plt.show()"
   ]
  },
  {
   "cell_type": "markdown",
   "metadata": {},
   "source": [
    "have a look at the first few images"
   ]
  },
  {
   "cell_type": "code",
   "execution_count": 19,
   "metadata": {},
   "outputs": [
    {
     "data": {
      "image/png": "[encoded data removed]",
      "text/plain": [
       "<Figure size 640x480 with 20 Axes>"
      ]
     },
     "metadata": {},
     "output_type": "display_data"
    }
   ],
   "source": [
    "n_images = 20\n",
    "fig, axes = plt.subplots(1, n_images)\n",
    "for i in range(n_images):\n",
    "    ax = axes[i]\n",
    "    ax.set_axis_off()\n",
    "    ax.imshow(digits['images'][i], cmap=plt.cm.gray_r, interpolation='nearest')\n",
    "    ax.set_title('%i' % digits['target'][i])"
   ]
  },
  {
   "cell_type": "code",
   "execution_count": 20,
   "metadata": {},
   "outputs": [
    {
     "name": "stdout",
     "output_type": "stream",
     "text": [
      "(1347, 64)\n",
      "first 10 train labels: [0 7 1 3 7 8 9 2 3 6]\n",
      "first 10 test labels: [9 1 1 3 1 3 4 9 5 8]\n"
     ]
    }
   ],
   "source": [
    "# split the data into a training and a testing set\n",
    "(X_train, X_test, y_train, y_test) = train_test_split(digits['data'] / 16.0, digits['target'], test_size=0.25, random_state=13)\n",
    "print(X_train.shape)\n",
    "print('first 10 train labels: {}'.format(y_train[:10]))\n",
    "print('first 10 test labels: {}'.format(y_test[:10]))"
   ]
  },
  {
   "cell_type": "code",
   "execution_count": 21,
   "metadata": {},
   "outputs": [
    {
     "data": {
      "image/png": "[encoded data removed]",
      "text/plain": [
       "<Figure size 640x480 with 20 Axes>"
      ]
     },
     "metadata": {},
     "output_type": "display_data"
    }
   ],
   "source": [
    "# verify training images\n",
    "fig, axes = plt.subplots(1, n_images)\n",
    "for i in range(n_images):\n",
    "    ax = axes[i]\n",
    "    ax.set_axis_off()\n",
    "    ax.imshow(X_train[i].reshape((8, 8)), cmap=plt.cm.gray_r, interpolation='nearest')\n",
    "    ax.set_title('%i' % y_train[i])"
   ]
  },
  {
   "cell_type": "markdown",
   "metadata": {},
   "source": [
    "With our network implementation, the output of the network is bounded between 0 and 1 (output of the sigmoidal function). We could have implemented a multinomial SVM classifier but instead we will use autoencoders to keep it very general.\n",
    "\n",
    "Each digit is transformed into a 10 component vector of zero axecpt for a 1 at the position of the digit. For example 6 become [0, 0, 0, 0, 0, 1, 0, 0, 0]. This allows to create a 10 output network and to compare each output with the transformed version of each label.\n",
    "\n",
    "We use `scikit-learn` utility `LabelBinarizer` for this."
   ]
  },
  {
   "cell_type": "code",
   "execution_count": 22,
   "metadata": {},
   "outputs": [
    {
     "name": "stdout",
     "output_type": "stream",
     "text": [
      "(1347, 10)\n",
      "0: [1 0 0 0 0 0 0 0 0 0]\n",
      "7: [0 0 0 0 0 0 0 1 0 0]\n",
      "1: [0 1 0 0 0 0 0 0 0 0]\n",
      "3: [0 0 0 1 0 0 0 0 0 0]\n",
      "7: [0 0 0 0 0 0 0 1 0 0]\n",
      "8: [0 0 0 0 0 0 0 0 1 0]\n",
      "9: [0 0 0 0 0 0 0 0 0 1]\n",
      "2: [0 0 1 0 0 0 0 0 0 0]\n",
      "3: [0 0 0 1 0 0 0 0 0 0]\n",
      "6: [0 0 0 0 0 0 1 0 0 0]\n"
     ]
    }
   ],
   "source": [
    "from sklearn.preprocessing import LabelBinarizer\n",
    "\n",
    "# convert the labels from integers to vectors\n",
    "y_train = LabelBinarizer().fit_transform(y_train)\n",
    "y_test = LabelBinarizer().fit_transform(y_test)\n",
    "print(y_train.shape)\n",
    "for i in range(10):\n",
    "    print('{}: {}'.format(y_train[i].argmax(), y_train[i]))"
   ]
  },
  {
   "cell_type": "markdown",
   "metadata": {},
   "source": [
    "create our neural network with 4 layers of 64, 32, 16 and finally 10 neurons."
   ]
  },
  {
   "cell_type": "code",
   "execution_count": 1,
   "metadata": {},
   "outputs": [
    {
     "ename": "NameError",
     "evalue": "name 'np' is not defined",
     "output_type": "error",
     "traceback": [
      "\u001b[0;31m---------------------------------------------------------------------------\u001b[0m",
      "\u001b[0;31mNameError\u001b[0m                                 Traceback (most recent call last)",
      "Cell \u001b[0;32mIn[1], line 1\u001b[0m\n\u001b[0;32m----> 1\u001b[0m \u001b[43mnp\u001b[49m\u001b[38;5;241m.\u001b[39mrandom\u001b[38;5;241m.\u001b[39mseed(\u001b[38;5;241m42\u001b[39m)\n\u001b[1;32m      2\u001b[0m nn \u001b[38;5;241m=\u001b[39m NeuralNetwork([\u001b[38;5;241m64\u001b[39m, \u001b[38;5;241m32\u001b[39m, \u001b[38;5;241m16\u001b[39m, \u001b[38;5;241m10\u001b[39m])\n\u001b[1;32m      3\u001b[0m \u001b[38;5;28mprint\u001b[39m(nn)\n",
      "\u001b[0;31mNameError\u001b[0m: name 'np' is not defined"
     ]
    }
   ],
   "source": [
    "np.random.seed(42)\n",
    "nn = NeuralNetwork([64, 32, 16, 10])\n",
    "print(nn)\n",
    "print(\"learning rate {}\".format(nn.eta))\n",
    "\n",
    "nn.fit(X_train, y_train, n_epochs=100, method='SGD', display_update=10)"
   ]
  },
  {
   "cell_type": "markdown",
   "metadata": {},
   "source": [
    "Plot the loss saved during training"
   ]
  },
  {
   "cell_type": "code",
   "execution_count": 24,
   "metadata": {},
   "outputs": [
    {
     "data": {
      "image/png": "[encoded data removed]",
      "text/plain": [
       "<Figure size 450x400 with 1 Axes>"
      ]
     },
     "metadata": {},
     "output_type": "display_data"
    }
   ],
   "source": [
    "plt.figure(figsize=(4.5, 4))\n",
    "plt.plot(nn.loss_history, linewidth=3)\n",
    "plt.xlabel('Epoch', fontsize=14)\n",
    "plt.ylabel('Loss', fontsize=14)\n",
    "plt.subplots_adjust(left=0.15, top=0.95)\n",
    "plt.show()"
   ]
  },
  {
   "cell_type": "code",
   "execution_count": 25,
   "metadata": {},
   "outputs": [
    {
     "name": "stdout",
     "output_type": "stream",
     "text": [
      "[[5.55756497e-04 6.49810944e-03 9.96592780e-01 1.18272559e-02\n",
      "  2.76571247e-05 3.96715622e-03 3.82660275e-04 9.96949722e-04\n",
      "  3.56266391e-03 4.54447835e-07]]\n",
      "test image 12: predict a 2 - ground truth is a 2\n"
     ]
    }
   ],
   "source": [
    "# have a look at a particular data point from the test set\n",
    "index = 12\n",
    "y_pred = nn.predict(X_test[index, :])\n",
    "print(y_pred)\n",
    "y_class = y_pred.argmax()\n",
    "y = y_test[index].argmax()\n",
    "print('test image {}: predict a {} - ground truth is a {}'.format(index, y_class, y))"
   ]
  },
  {
   "cell_type": "code",
   "execution_count": 26,
   "metadata": {},
   "outputs": [
    {
     "data": {
      "image/png": "[encoded data removed]",
      "text/plain": [
       "<Figure size 1200x900 with 60 Axes>"
      ]
     },
     "metadata": {},
     "output_type": "display_data"
    }
   ],
   "source": [
    "import matplotlib.patches as patches\n",
    "\n",
    "start_index = 10\n",
    "plt.figure(figsize=(12, 9))\n",
    "for i, index in enumerate(range(start_index, start_index + 60)):\n",
    "    y_pred = nn.predict(X_test[index, :])\n",
    "    y_class = np.argmax(y_pred)\n",
    "    y = np.argmax(y_test[index])\n",
    "    ax = plt.subplot(6, 10, i + 1)\n",
    "    ax.imshow(X_test[index, :].reshape((8, 8)), cmap=cm.gray_r)\n",
    "    if y_class == y:\n",
    "        color = 'green'\n",
    "    else:\n",
    "        color = 'red'\n",
    "        plt.title('seen as {}'.format(y_class))\n",
    "    rect = patches.Rectangle((-0.5, -0.5), 8.0, 8.0, linewidth=8, edgecolor=color, facecolor='none')\n",
    "    ax.add_patch(rect)\n",
    "    plt.axis('off')\n",
    "plt.subplots_adjust(wspace=0.1)\n",
    "plt.show()"
   ]
  },
  {
   "cell_type": "code",
   "execution_count": 27,
   "metadata": {},
   "outputs": [
    {
     "name": "stdout",
     "output_type": "stream",
     "text": [
      "              precision    recall  f1-score   support\n",
      "\n",
      "           0       1.00      1.00      1.00        34\n",
      "           1       0.91      0.95      0.93        44\n",
      "           2       0.96      0.98      0.97        45\n",
      "           3       0.96      0.92      0.94        51\n",
      "           4       0.96      1.00      0.98        47\n",
      "           5       0.98      0.93      0.95        56\n",
      "           6       1.00      0.98      0.99        49\n",
      "           7       1.00      1.00      1.00        36\n",
      "           8       0.93      0.93      0.93        45\n",
      "           9       0.95      0.98      0.97        43\n",
      "\n",
      "    accuracy                           0.96       450\n",
      "   macro avg       0.97      0.97      0.97       450\n",
      "weighted avg       0.96      0.96      0.96       450\n",
      "\n"
     ]
    }
   ],
   "source": [
    "from sklearn.metrics import classification_report\n",
    "\n",
    "predictions = nn.predict(X_test)\n",
    "y_test_pred = predictions.argmax(axis=1)\n",
    "print(classification_report(y_test.argmax(axis=1), y_test_pred))\n"
   ]
  },
  {
   "cell_type": "code",
   "execution_count": 28,
   "metadata": {},
   "outputs": [
    {
     "name": "stdout",
     "output_type": "stream",
     "text": [
      "(1347, 10)\n"
     ]
    }
   ],
   "source": [
    "from sklearn.metrics import confusion_matrix\n",
    "predictions = nn.predict(X_train)\n",
    "print(predictions.shape)\n",
    "y_train_pred = predictions.argmax(axis=1)\n",
    "conf = confusion_matrix(y_train.argmax(axis=1), y_train_pred)"
   ]
  },
  {
   "cell_type": "code",
   "execution_count": 29,
   "metadata": {},
   "outputs": [
    {
     "data": {
      "image/png": "[encoded data removed]",
      "text/plain": [
       "<Figure size 500x500 with 1 Axes>"
      ]
     },
     "metadata": {},
     "output_type": "display_data"
    }
   ],
   "source": [
    "plt.figure(figsize=(5, 5))\n",
    "plt.imshow(conf)\n",
    "plt.xlabel('predicted class')\n",
    "plt.ylabel('actual class')\n",
    "plt.title('confusion matrix')\n",
    "plt.savefig('mnist_deep_learning_confusion_matrix.pdf')\n",
    "plt.show()"
   ]
  },
  {
   "cell_type": "markdown",
   "metadata": {},
   "source": [
    "## Using Keras\n",
    "\n",
    "Keras is a high level programming interface to build deep Neural Networks. It need a backend to run (to actually build te computational graph, compute the gradients and so on).\n",
    "\n",
    "Note that starting from version 2.3.0, Keras is now part of TensorFlow (which is now the default and only backend)."
   ]
  },
  {
   "cell_type": "code",
   "execution_count": 30,
   "metadata": {},
   "outputs": [],
   "source": [
    "%reset -f"
   ]
  },
  {
   "cell_type": "code",
   "execution_count": 2,
   "metadata": {},
   "outputs": [
    {
     "data": {
      "text/plain": [
       "2080"
      ]
     },
     "execution_count": 2,
     "metadata": {},
     "output_type": "execute_result"
    }
   ],
   "source": [
    "65*32"
   ]
  },
  {
   "cell_type": "code",
   "execution_count": 1,
   "metadata": {},
   "outputs": [],
   "source": [
    "import numpy as np\n",
    "from matplotlib import pyplot as plt\n",
    "\n",
    "import tensorflow as tf\n",
    "from tensorflow.keras.models import Sequential\n",
    "from tensorflow.keras.layers import Dense, Flatten, Activation\n",
    "from tensorflow.keras.optimizers import SGD\n",
    "from tensorflow.keras import backend as K\n"
   ]
  },
  {
   "cell_type": "code",
   "execution_count": 198,
   "metadata": {},
   "outputs": [
    {
     "name": "stdout",
     "output_type": "stream",
     "text": [
      "Model: \"sequential_77\"\n",
      "_________________________________________________________________\n",
      "Layer (type)                 Output Shape              Param #   \n",
      "=================================================================\n",
      "dense1 (Dense)               (None, 2)                 6         \n",
      "_________________________________________________________________\n",
      "dense2 (Dense)               (None, 2)                 6         \n",
      "_________________________________________________________________\n",
      "dense3 (Dense)               (None, 1)                 3         \n",
      "=================================================================\n",
      "Total params: 15\n",
      "Trainable params: 15\n",
      "Non-trainable params: 0\n",
      "_________________________________________________________________\n"
     ]
    }
   ],
   "source": [
    "model = Sequential()\n",
    "model.add(Dense(2, name='dense1', input_dim=2, activation='sigmoid'))\n",
    "model.add(Dense(2, name='dense2', activation='sigmoid'))\n",
    "model.add(Dense(1, name='dense3', activation='sigmoid'))\n",
    "model.summary()\n"
   ]
  },
  {
   "cell_type": "markdown",
   "metadata": {},
   "source": [
    "### Solving XOR with a simplistic model"
   ]
  },
  {
   "cell_type": "code",
   "execution_count": 164,
   "metadata": {},
   "outputs": [
    {
     "name": "stdout",
     "output_type": "stream",
     "text": [
      "Model: \"sequential_76\"\n",
      "_________________________________________________________________\n",
      "Layer (type)                 Output Shape              Param #   \n",
      "=================================================================\n",
      "dense1 (Dense)               (None, 2)                 6         \n",
      "_________________________________________________________________\n",
      "dense2 (Dense)               (None, 1)                 3         \n",
      "=================================================================\n",
      "Total params: 9\n",
      "Trainable params: 9\n",
      "Non-trainable params: 0\n",
      "_________________________________________________________________\n",
      "dict_keys(['loss'])\n",
      "WARNING:tensorflow:11 out of the last 11 calls to <function Model.make_predict_function.<locals>.predict_function at 0x7fb1fc0b9680> triggered tf.function retracing. Tracing is expensive and the excessive number of tracings could be due to (1) creating @tf.function repeatedly in a loop, (2) passing tensors with different shapes, (3) passing Python objects instead of tensors. For (1), please define your @tf.function outside of the loop. For (2), @tf.function has experimental_relax_shapes=True option that relaxes argument shapes that can avoid unnecessary retracing. For (3), please refer to https://www.tensorflow.org/guide/function#controlling_retracing and https://www.tensorflow.org/api_docs/python/tf/function for  more details.\n",
      "[[0.02354369]\n",
      " [0.98258173]\n",
      " [0.9812718 ]\n",
      " [0.02023539]]\n"
     ]
    },
    {
     "data": {
      "image/png": "[encoded data removed]",
      "text/plain": [
       "<Figure size 432x288 with 1 Axes>"
      ]
     },
     "metadata": {
      "needs_background": "light"
     },
     "output_type": "display_data"
    }
   ],
   "source": [
    "tf.random.set_seed(13)  # works with sigmoid: 4, 5, 7, 10, 13\n",
    "\n",
    "X = np.array([[0, 0],[0, 1],[1, 0], [1, 1]])\n",
    "y = np.array([[0], [1], [1], [0]])\n",
    "\n",
    "model = Sequential()\n",
    "model.add(Dense(2, name='dense1', input_dim=2, activation='sigmoid'))\n",
    "model.add(Dense(1, name='dense2', activation='sigmoid'))\n",
    "model.summary()\n",
    "\n",
    "sgd = SGD(lr=0.1)\n",
    "model.compile(loss='binary_crossentropy', optimizer=sgd)\n",
    "\n",
    "H = model.fit(X, y, epochs=2000, batch_size=1, verbose=False)\n",
    "print(H.history.keys())\n",
    "print(model.predict_proba(X))\n",
    "\n",
    "plt.figure()\n",
    "plt.plot(H.history['loss'], label='training loss')\n",
    "plt.title('Training Loss')\n",
    "plt.xlabel('Epoch')\n",
    "plt.ylabel('Loss')\n",
    "plt.xlim(0, len(H.history['loss']))\n",
    "plt.savefig('XOR_training_keyras.pdf')\n",
    "plt.show()"
   ]
  },
  {
   "cell_type": "code",
   "execution_count": 188,
   "metadata": {},
   "outputs": [
    {
     "name": "stdout",
     "output_type": "stream",
     "text": [
      "-3.838389 0.021074556996856637\n",
      "-3.0772566999999995 0.04405520327272088\n",
      "-3.8488056248883904 0.02086072633899579\n",
      "input: x1=1, x2=1, prediction: 0\n"
     ]
    }
   ],
   "source": [
    "# worked example of a forward pass\n",
    "w1, b1 = model.get_layer(name='dense1').get_weights()\n",
    "w2, b2 = model.get_layer(name='dense2').get_weights()\n",
    "print(w1, b1)\n",
    "print(w2, b2)\n",
    "\n",
    "#first neuron: w0, w1, w2 = -3.003899, 5.454974, -6.289464\n",
    "W1 = np.array([b1[0], w1[0, 0], w1[0, 1]])\n",
    "\n",
    "#second neuron: w0, w1, w2 = -3.431256, -5.7750597, 6.129059\n",
    "W2 = np.array([b1[1], w1[1, 0], w1[2, 1]])\n",
    "\n",
    "# third neuron (second layer) w0, w1, w2 = -4.4393463, 9.121503, 9.041135\n",
    "W3 = np.array([-4.4393463, 9.121503, 9.041135])\n",
    "\n",
    "X_xor = np.array([[1, 0, 0], [1, 0, 1], [1, 1, 0], [1, 1, 1]])  # include term for the bias trick\n",
    "y = np.array([[0], [1], [1], [0]])\n",
    "\n",
    "def sigmoid(x):\n",
    "    return 1 / (1 + np.exp(-x))\n",
    "\n",
    "index = 3  # chose between [0, 1, 2, 3]\n",
    "print(X_xor[index].dot(W1), sigmoid(X_xor[index].dot(W1)))  # output neuron 1\n",
    "print(X_xor[index].dot(W2), sigmoid(X_xor[index].dot(W2)))  # output neuron 2\n",
    "\n",
    "h = np.array([1., sigmoid(X_xor[index].dot(W1)), sigmoid(X_xor[index].dot(W2))])  # include bias\n",
    "print(h.dot(W3), sigmoid(h.dot(W3)))  # output neuron 3\n",
    "print('input: x1={:d}, x2={:d}, prediction: {:d}'.format(X_xor[index][1], X_xor[index][2], sigmoid(h.dot(W3)) > 0.5))"
   ]
  },
  {
   "cell_type": "markdown",
   "metadata": {},
   "source": [
    "### Solving XOR using Keras"
   ]
  },
  {
   "cell_type": "code",
   "execution_count": 7,
   "metadata": {},
   "outputs": [
    {
     "name": "stdout",
     "output_type": "stream",
     "text": [
      "Model: \"sequential_5\"\n",
      "_________________________________________________________________\n",
      "Layer (type)                 Output Shape              Param #   \n",
      "=================================================================\n",
      "dense_10 (Dense)             (None, 2)                 6         \n",
      "_________________________________________________________________\n",
      "dense_11 (Dense)             (None, 1)                 3         \n",
      "=================================================================\n",
      "Total params: 9\n",
      "Trainable params: 9\n",
      "Non-trainable params: 0\n",
      "_________________________________________________________________\n",
      "[[0.02354369]\n",
      " [0.98258173]\n",
      " [0.9812718 ]\n",
      " [0.02023539]]\n"
     ]
    },
    {
     "data": {
      "image/png": "[encoded data removed]",
      "text/plain": [
       "<Figure size 432x288 with 1 Axes>"
      ]
     },
     "metadata": {
      "needs_background": "light"
     },
     "output_type": "display_data"
    }
   ],
   "source": [
    "tf.random.set_seed(13)  # works with sigmoid: 4, 5, 7, 10, 13\n",
    "\n",
    "X_xor = np.array([[1, 0, 0], [1, 0, 1], [1, 1, 0], [1, 1, 1]])  # include term for the bias trick\n",
    "X = np.array([[0, 0], [0, 1], [1, 0], [1, 1]])\n",
    "y = np.array([[0], [1], [1], [0]])\n",
    "\n",
    "model = Sequential()\n",
    "model.add(Dense(2, input_shape=(2,), activation='sigmoid'))\n",
    "model.add(Dense(1, activation='sigmoid'))\n",
    "model.summary()\n",
    "sgd = SGD(0.1)\n",
    "model.compile(loss='binary_crossentropy', optimizer=sgd)\n",
    "H = model.fit(X, y, epochs=2000, batch_size=1, verbose=False)\n",
    "print(model.predict(X))\n",
    "\n",
    "plt.figure()\n",
    "plt.plot(H.history['loss'], label='training loss')\n",
    "plt.title('Training Loss')\n",
    "plt.xlabel('Epoch')\n",
    "plt.ylabel('Loss')\n",
    "plt.xlim(0, len(H.history['loss']))\n",
    "plt.savefig('XOR_training_keyras.pdf')\n",
    "plt.show()"
   ]
  },
  {
   "cell_type": "markdown",
   "metadata": {},
   "source": [
    "### Solving Mnist using Sigmoid layers"
   ]
  },
  {
   "cell_type": "code",
   "execution_count": 2,
   "metadata": {},
   "outputs": [],
   "source": [
    "# define the 94-32-16-10 architecture using Keras\n",
    "model = Sequential()\n",
    "model.add(Dense(32, input_shape=(64,), activation='sigmoid'))\n",
    "model.add(Dense(16, activation='sigmoid'))\n",
    "model.add(Dense(10, activation='softmax'))"
   ]
  },
  {
   "cell_type": "code",
   "execution_count": 3,
   "metadata": {},
   "outputs": [],
   "source": [
    "sgd = SGD(0.01)\n",
    "model.compile(\n",
    "    loss='categorical_crossentropy', \n",
    "    optimizer=sgd, \n",
    "    metrics=['accuracy'])"
   ]
  },
  {
   "cell_type": "markdown",
   "metadata": {},
   "source": [
    "Train the model on 300 epochs"
   ]
  },
  {
   "cell_type": "code",
   "execution_count": 17,
   "metadata": {},
   "outputs": [
    {
     "name": "stdout",
     "output_type": "stream",
     "text": [
      "training network...\n",
      "Epoch 1/300\n",
      "135/135 [==============================] - 1s 4ms/step - loss: 2.3731 - accuracy: 0.1121 - val_loss: 2.3252 - val_accuracy: 0.2067\n",
      "Epoch 2/300\n",
      "135/135 [==============================] - 0s 2ms/step - loss: 2.3129 - accuracy: 0.1677 - val_loss: 2.3050 - val_accuracy: 0.2089\n",
      "Epoch 3/300\n",
      "135/135 [==============================] - 0s 2ms/step - loss: 2.2956 - accuracy: 0.1749 - val_loss: 2.2981 - val_accuracy: 0.1822\n",
      "Epoch 4/300\n",
      "135/135 [==============================] - 0s 2ms/step - loss: 2.2931 - accuracy: 0.1793 - val_loss: 2.2945 - val_accuracy: 0.1556\n",
      "Epoch 5/300\n",
      "135/135 [==============================] - 0s 2ms/step - loss: 2.2850 - accuracy: 0.1552 - val_loss: 2.2908 - val_accuracy: 0.1022\n",
      "Epoch 6/300\n",
      "135/135 [==============================] - 0s 2ms/step - loss: 2.2845 - accuracy: 0.1541 - val_loss: 2.2889 - val_accuracy: 0.1356\n",
      "Epoch 7/300\n",
      "135/135 [==============================] - 0s 2ms/step - loss: 2.2796 - accuracy: 0.1879 - val_loss: 2.2857 - val_accuracy: 0.1311\n",
      "Epoch 8/300\n",
      "135/135 [==============================] - 0s 2ms/step - loss: 2.2787 - accuracy: 0.2003 - val_loss: 2.2836 - val_accuracy: 0.1089\n",
      "Epoch 9/300\n",
      "135/135 [==============================] - 0s 2ms/step - loss: 2.2775 - accuracy: 0.2174 - val_loss: 2.2820 - val_accuracy: 0.1111\n",
      "Epoch 10/300\n",
      "135/135 [==============================] - 0s 2ms/step - loss: 2.2732 - accuracy: 0.1978 - val_loss: 2.2792 - val_accuracy: 0.1444\n",
      "Epoch 11/300\n",
      "135/135 [==============================] - 0s 2ms/step - loss: 2.2692 - accuracy: 0.2095 - val_loss: 2.2764 - val_accuracy: 0.1511\n",
      "Epoch 12/300\n",
      "135/135 [==============================] - 0s 2ms/step - loss: 2.2679 - accuracy: 0.2000 - val_loss: 2.2736 - val_accuracy: 0.1889\n",
      "Epoch 13/300\n",
      "135/135 [==============================] - 0s 2ms/step - loss: 2.2635 - accuracy: 0.2399 - val_loss: 2.2697 - val_accuracy: 0.1844\n",
      "Epoch 14/300\n",
      "135/135 [==============================] - 0s 2ms/step - loss: 2.2646 - accuracy: 0.2771 - val_loss: 2.2678 - val_accuracy: 0.1644\n",
      "Epoch 15/300\n",
      "135/135 [==============================] - 0s 2ms/step - loss: 2.2593 - accuracy: 0.2017 - val_loss: 2.2648 - val_accuracy: 0.1933\n",
      "Epoch 16/300\n",
      "135/135 [==============================] - 0s 2ms/step - loss: 2.2560 - accuracy: 0.2614 - val_loss: 2.2608 - val_accuracy: 0.1644\n",
      "Epoch 17/300\n",
      "135/135 [==============================] - 0s 2ms/step - loss: 2.2507 - accuracy: 0.2356 - val_loss: 2.2562 - val_accuracy: 0.2200\n",
      "Epoch 18/300\n",
      "135/135 [==============================] - 0s 2ms/step - loss: 2.2458 - accuracy: 0.2652 - val_loss: 2.2522 - val_accuracy: 0.2489\n",
      "Epoch 19/300\n",
      "135/135 [==============================] - 0s 2ms/step - loss: 2.2437 - accuracy: 0.2932 - val_loss: 2.2483 - val_accuracy: 0.2644\n",
      "Epoch 20/300\n",
      "135/135 [==============================] - 0s 2ms/step - loss: 2.2362 - accuracy: 0.3039 - val_loss: 2.2430 - val_accuracy: 0.2689\n",
      "Epoch 21/300\n",
      "135/135 [==============================] - 0s 3ms/step - loss: 2.2319 - accuracy: 0.3279 - val_loss: 2.2381 - val_accuracy: 0.2511\n",
      "Epoch 22/300\n",
      "135/135 [==============================] - 0s 2ms/step - loss: 2.2281 - accuracy: 0.3037 - val_loss: 2.2336 - val_accuracy: 0.2444\n",
      "Epoch 23/300\n",
      "135/135 [==============================] - 0s 2ms/step - loss: 2.2254 - accuracy: 0.3161 - val_loss: 2.2280 - val_accuracy: 0.3133\n",
      "Epoch 24/300\n",
      "135/135 [==============================] - 0s 2ms/step - loss: 2.2201 - accuracy: 0.3275 - val_loss: 2.2224 - val_accuracy: 0.2867\n",
      "Epoch 25/300\n",
      "135/135 [==============================] - 0s 2ms/step - loss: 2.2098 - accuracy: 0.2714 - val_loss: 2.2150 - val_accuracy: 0.3600\n",
      "Epoch 26/300\n",
      "135/135 [==============================] - 0s 2ms/step - loss: 2.2040 - accuracy: 0.4019 - val_loss: 2.2087 - val_accuracy: 0.3422\n",
      "Epoch 27/300\n",
      "135/135 [==============================] - 0s 2ms/step - loss: 2.1955 - accuracy: 0.3654 - val_loss: 2.2007 - val_accuracy: 0.3800\n",
      "Epoch 28/300\n",
      "135/135 [==============================] - 0s 2ms/step - loss: 2.1886 - accuracy: 0.3861 - val_loss: 2.1931 - val_accuracy: 0.3911\n",
      "Epoch 29/300\n",
      "135/135 [==============================] - 0s 2ms/step - loss: 2.1777 - accuracy: 0.3776 - val_loss: 2.1836 - val_accuracy: 0.4422\n",
      "Epoch 30/300\n",
      "135/135 [==============================] - 0s 2ms/step - loss: 2.1711 - accuracy: 0.4064 - val_loss: 2.1749 - val_accuracy: 0.4133\n",
      "Epoch 31/300\n",
      "135/135 [==============================] - 0s 2ms/step - loss: 2.1610 - accuracy: 0.4530 - val_loss: 2.1657 - val_accuracy: 0.4156\n",
      "Epoch 32/300\n",
      "135/135 [==============================] - 0s 2ms/step - loss: 2.1532 - accuracy: 0.3957 - val_loss: 2.1545 - val_accuracy: 0.4200\n",
      "Epoch 33/300\n",
      "135/135 [==============================] - 0s 2ms/step - loss: 2.1306 - accuracy: 0.4235 - val_loss: 2.1424 - val_accuracy: 0.4333\n",
      "Epoch 34/300\n",
      "135/135 [==============================] - 0s 2ms/step - loss: 2.1324 - accuracy: 0.4441 - val_loss: 2.1306 - val_accuracy: 0.4178\n",
      "Epoch 35/300\n",
      "135/135 [==============================] - 0s 2ms/step - loss: 2.1164 - accuracy: 0.4189 - val_loss: 2.1166 - val_accuracy: 0.4356\n",
      "Epoch 36/300\n",
      "135/135 [==============================] - 0s 2ms/step - loss: 2.0962 - accuracy: 0.4421 - val_loss: 2.1014 - val_accuracy: 0.4556\n",
      "Epoch 37/300\n",
      "135/135 [==============================] - 0s 2ms/step - loss: 2.0827 - accuracy: 0.4849 - val_loss: 2.0861 - val_accuracy: 0.4644\n",
      "Epoch 38/300\n",
      "135/135 [==============================] - 0s 2ms/step - loss: 2.0683 - accuracy: 0.4498 - val_loss: 2.0686 - val_accuracy: 0.4822\n",
      "Epoch 39/300\n",
      "135/135 [==============================] - 0s 2ms/step - loss: 2.0377 - accuracy: 0.4838 - val_loss: 2.0507 - val_accuracy: 0.4956\n",
      "Epoch 40/300\n",
      "135/135 [==============================] - 0s 2ms/step - loss: 2.0246 - accuracy: 0.5106 - val_loss: 2.0318 - val_accuracy: 0.4889\n",
      "Epoch 41/300\n",
      "135/135 [==============================] - 0s 2ms/step - loss: 2.0076 - accuracy: 0.4933 - val_loss: 2.0117 - val_accuracy: 0.5089\n",
      "Epoch 42/300\n",
      "135/135 [==============================] - 0s 2ms/step - loss: 1.9929 - accuracy: 0.5066 - val_loss: 1.9914 - val_accuracy: 0.5178\n",
      "Epoch 43/300\n",
      "135/135 [==============================] - 0s 2ms/step - loss: 1.9744 - accuracy: 0.5121 - val_loss: 1.9707 - val_accuracy: 0.5067\n",
      "Epoch 44/300\n",
      "135/135 [==============================] - 0s 2ms/step - loss: 1.9502 - accuracy: 0.5173 - val_loss: 1.9489 - val_accuracy: 0.5000\n",
      "Epoch 45/300\n",
      "135/135 [==============================] - 0s 2ms/step - loss: 1.9128 - accuracy: 0.5287 - val_loss: 1.9268 - val_accuracy: 0.5200\n",
      "Epoch 46/300\n",
      "135/135 [==============================] - 0s 2ms/step - loss: 1.9060 - accuracy: 0.5212 - val_loss: 1.9039 - val_accuracy: 0.5333\n",
      "Epoch 47/300\n",
      "135/135 [==============================] - 0s 2ms/step - loss: 1.8743 - accuracy: 0.5403 - val_loss: 1.8800 - val_accuracy: 0.5400\n",
      "Epoch 48/300\n",
      "135/135 [==============================] - 0s 2ms/step - loss: 1.8525 - accuracy: 0.5459 - val_loss: 1.8566 - val_accuracy: 0.5378\n",
      "Epoch 49/300\n",
      "135/135 [==============================] - 0s 2ms/step - loss: 1.8251 - accuracy: 0.5437 - val_loss: 1.8336 - val_accuracy: 0.5356\n",
      "Epoch 50/300\n",
      "135/135 [==============================] - 0s 2ms/step - loss: 1.7873 - accuracy: 0.5586 - val_loss: 1.8087 - val_accuracy: 0.5511\n",
      "Epoch 51/300\n",
      "135/135 [==============================] - 0s 2ms/step - loss: 1.7819 - accuracy: 0.5585 - val_loss: 1.7848 - val_accuracy: 0.5622\n",
      "Epoch 52/300\n",
      "135/135 [==============================] - 0s 2ms/step - loss: 1.7501 - accuracy: 0.5765 - val_loss: 1.7608 - val_accuracy: 0.5689\n",
      "Epoch 53/300\n",
      "135/135 [==============================] - 0s 2ms/step - loss: 1.7281 - accuracy: 0.5708 - val_loss: 1.7367 - val_accuracy: 0.5733\n",
      "Epoch 54/300\n",
      "135/135 [==============================] - 0s 2ms/step - loss: 1.7031 - accuracy: 0.5894 - val_loss: 1.7126 - val_accuracy: 0.5800\n",
      "Epoch 55/300\n",
      "135/135 [==============================] - 0s 2ms/step - loss: 1.6771 - accuracy: 0.5898 - val_loss: 1.6907 - val_accuracy: 0.5822\n",
      "Epoch 56/300\n",
      "135/135 [==============================] - 0s 2ms/step - loss: 1.6506 - accuracy: 0.5976 - val_loss: 1.6666 - val_accuracy: 0.5867\n",
      "Epoch 57/300\n",
      "135/135 [==============================] - 0s 2ms/step - loss: 1.6370 - accuracy: 0.6054 - val_loss: 1.6441 - val_accuracy: 0.5800\n",
      "Epoch 58/300\n",
      "135/135 [==============================] - 0s 2ms/step - loss: 1.6044 - accuracy: 0.5991 - val_loss: 1.6226 - val_accuracy: 0.5822\n",
      "Epoch 59/300\n",
      "135/135 [==============================] - 0s 2ms/step - loss: 1.5823 - accuracy: 0.6128 - val_loss: 1.6008 - val_accuracy: 0.6044\n",
      "Epoch 60/300\n",
      "135/135 [==============================] - 0s 2ms/step - loss: 1.5616 - accuracy: 0.6194 - val_loss: 1.5787 - val_accuracy: 0.6089\n",
      "Epoch 61/300\n",
      "135/135 [==============================] - 0s 2ms/step - loss: 1.5395 - accuracy: 0.6328 - val_loss: 1.5586 - val_accuracy: 0.6089\n",
      "Epoch 62/300\n",
      "135/135 [==============================] - 0s 3ms/step - loss: 1.5004 - accuracy: 0.6362 - val_loss: 1.5379 - val_accuracy: 0.6067\n",
      "Epoch 63/300\n",
      "135/135 [==============================] - 0s 2ms/step - loss: 1.4776 - accuracy: 0.6313 - val_loss: 1.5174 - val_accuracy: 0.6111\n",
      "Epoch 64/300\n",
      "135/135 [==============================] - 0s 2ms/step - loss: 1.4619 - accuracy: 0.6630 - val_loss: 1.4988 - val_accuracy: 0.6111\n",
      "Epoch 65/300\n",
      "135/135 [==============================] - 0s 2ms/step - loss: 1.4431 - accuracy: 0.6550 - val_loss: 1.4781 - val_accuracy: 0.6133\n",
      "Epoch 66/300\n",
      "135/135 [==============================] - 0s 2ms/step - loss: 1.4124 - accuracy: 0.6544 - val_loss: 1.4576 - val_accuracy: 0.6311\n",
      "Epoch 67/300\n",
      "135/135 [==============================] - 0s 2ms/step - loss: 1.4176 - accuracy: 0.6475 - val_loss: 1.4396 - val_accuracy: 0.6289\n",
      "Epoch 68/300\n",
      "135/135 [==============================] - 0s 2ms/step - loss: 1.3968 - accuracy: 0.6395 - val_loss: 1.4216 - val_accuracy: 0.6422\n",
      "Epoch 69/300\n",
      "135/135 [==============================] - 0s 2ms/step - loss: 1.3735 - accuracy: 0.6423 - val_loss: 1.4040 - val_accuracy: 0.6511\n",
      "Epoch 70/300\n",
      "135/135 [==============================] - 0s 2ms/step - loss: 1.3401 - accuracy: 0.6802 - val_loss: 1.3859 - val_accuracy: 0.6489\n",
      "Epoch 71/300\n",
      "135/135 [==============================] - 0s 2ms/step - loss: 1.3366 - accuracy: 0.6624 - val_loss: 1.3687 - val_accuracy: 0.6467\n",
      "Epoch 72/300\n",
      "135/135 [==============================] - 0s 2ms/step - loss: 1.3171 - accuracy: 0.6779 - val_loss: 1.3522 - val_accuracy: 0.6556\n",
      "Epoch 73/300\n",
      "135/135 [==============================] - 0s 2ms/step - loss: 1.2836 - accuracy: 0.7016 - val_loss: 1.3353 - val_accuracy: 0.6556\n",
      "Epoch 74/300\n",
      "135/135 [==============================] - 0s 2ms/step - loss: 1.2958 - accuracy: 0.6781 - val_loss: 1.3213 - val_accuracy: 0.6533\n",
      "Epoch 75/300\n",
      "135/135 [==============================] - 0s 2ms/step - loss: 1.2701 - accuracy: 0.6823 - val_loss: 1.3055 - val_accuracy: 0.6600\n",
      "Epoch 76/300\n",
      "135/135 [==============================] - 0s 2ms/step - loss: 1.2606 - accuracy: 0.6759 - val_loss: 1.2900 - val_accuracy: 0.6644\n",
      "Epoch 77/300\n",
      "135/135 [==============================] - 0s 2ms/step - loss: 1.2532 - accuracy: 0.6805 - val_loss: 1.2743 - val_accuracy: 0.6622\n",
      "Epoch 78/300\n",
      "135/135 [==============================] - 0s 2ms/step - loss: 1.2378 - accuracy: 0.6787 - val_loss: 1.2604 - val_accuracy: 0.6622\n",
      "Epoch 79/300\n",
      "135/135 [==============================] - 0s 2ms/step - loss: 1.2188 - accuracy: 0.7088 - val_loss: 1.2444 - val_accuracy: 0.6622\n",
      "Epoch 80/300\n",
      "135/135 [==============================] - 0s 2ms/step - loss: 1.2063 - accuracy: 0.6956 - val_loss: 1.2311 - val_accuracy: 0.6689\n",
      "Epoch 81/300\n",
      "135/135 [==============================] - 0s 2ms/step - loss: 1.1729 - accuracy: 0.7000 - val_loss: 1.2167 - val_accuracy: 0.6667\n",
      "Epoch 82/300\n",
      "135/135 [==============================] - 0s 2ms/step - loss: 1.1418 - accuracy: 0.7195 - val_loss: 1.2021 - val_accuracy: 0.6800\n",
      "Epoch 83/300\n",
      "135/135 [==============================] - 0s 2ms/step - loss: 1.1618 - accuracy: 0.7016 - val_loss: 1.1895 - val_accuracy: 0.6844\n",
      "Epoch 84/300\n",
      "135/135 [==============================] - 0s 2ms/step - loss: 1.1252 - accuracy: 0.7236 - val_loss: 1.1757 - val_accuracy: 0.6844\n",
      "Epoch 85/300\n",
      "135/135 [==============================] - 0s 2ms/step - loss: 1.1122 - accuracy: 0.7436 - val_loss: 1.1626 - val_accuracy: 0.6911\n",
      "Epoch 86/300\n",
      "135/135 [==============================] - 0s 2ms/step - loss: 1.1004 - accuracy: 0.7375 - val_loss: 1.1506 - val_accuracy: 0.6911\n",
      "Epoch 87/300\n",
      "135/135 [==============================] - 0s 2ms/step - loss: 1.1083 - accuracy: 0.7290 - val_loss: 1.1381 - val_accuracy: 0.6956\n",
      "Epoch 88/300\n",
      "135/135 [==============================] - 0s 2ms/step - loss: 1.0780 - accuracy: 0.7352 - val_loss: 1.1243 - val_accuracy: 0.6978\n",
      "Epoch 89/300\n",
      "135/135 [==============================] - 0s 2ms/step - loss: 1.0618 - accuracy: 0.7470 - val_loss: 1.1129 - val_accuracy: 0.7089\n",
      "Epoch 90/300\n",
      "135/135 [==============================] - 0s 2ms/step - loss: 1.0464 - accuracy: 0.7474 - val_loss: 1.1013 - val_accuracy: 0.7044\n",
      "Epoch 91/300\n",
      "135/135 [==============================] - 0s 2ms/step - loss: 1.0087 - accuracy: 0.7664 - val_loss: 1.0883 - val_accuracy: 0.7178\n",
      "Epoch 92/300\n",
      "135/135 [==============================] - 0s 2ms/step - loss: 1.0224 - accuracy: 0.7567 - val_loss: 1.0754 - val_accuracy: 0.7089\n",
      "Epoch 93/300\n",
      "135/135 [==============================] - 0s 2ms/step - loss: 1.0101 - accuracy: 0.7591 - val_loss: 1.0640 - val_accuracy: 0.7267\n",
      "Epoch 94/300\n",
      "135/135 [==============================] - 0s 2ms/step - loss: 0.9964 - accuracy: 0.7626 - val_loss: 1.0529 - val_accuracy: 0.7200\n",
      "Epoch 95/300\n",
      "135/135 [==============================] - 0s 2ms/step - loss: 1.0101 - accuracy: 0.7541 - val_loss: 1.0416 - val_accuracy: 0.7200\n",
      "Epoch 96/300\n",
      "135/135 [==============================] - 0s 2ms/step - loss: 1.0010 - accuracy: 0.7562 - val_loss: 1.0298 - val_accuracy: 0.7200\n",
      "Epoch 97/300\n",
      "135/135 [==============================] - 0s 3ms/step - loss: 0.9755 - accuracy: 0.7781 - val_loss: 1.0167 - val_accuracy: 0.7267\n",
      "Epoch 98/300\n",
      "135/135 [==============================] - 0s 2ms/step - loss: 0.9506 - accuracy: 0.7738 - val_loss: 1.0069 - val_accuracy: 0.7267\n",
      "Epoch 99/300\n",
      "135/135 [==============================] - 0s 2ms/step - loss: 0.9522 - accuracy: 0.7750 - val_loss: 0.9954 - val_accuracy: 0.7356\n",
      "Epoch 100/300\n",
      "135/135 [==============================] - 0s 2ms/step - loss: 0.9383 - accuracy: 0.7827 - val_loss: 0.9825 - val_accuracy: 0.7400\n",
      "Epoch 101/300\n",
      "135/135 [==============================] - 0s 2ms/step - loss: 0.9082 - accuracy: 0.8007 - val_loss: 0.9725 - val_accuracy: 0.7422\n",
      "Epoch 102/300\n",
      "135/135 [==============================] - 0s 2ms/step - loss: 0.9073 - accuracy: 0.7880 - val_loss: 0.9610 - val_accuracy: 0.7511\n",
      "Epoch 103/300\n",
      "135/135 [==============================] - 0s 2ms/step - loss: 0.8992 - accuracy: 0.7899 - val_loss: 0.9512 - val_accuracy: 0.7533\n",
      "Epoch 104/300\n",
      "135/135 [==============================] - 0s 2ms/step - loss: 0.9124 - accuracy: 0.7824 - val_loss: 0.9417 - val_accuracy: 0.7556\n",
      "Epoch 105/300\n",
      "135/135 [==============================] - 0s 2ms/step - loss: 0.8714 - accuracy: 0.7974 - val_loss: 0.9291 - val_accuracy: 0.7733\n",
      "Epoch 106/300\n",
      "135/135 [==============================] - 0s 2ms/step - loss: 0.8711 - accuracy: 0.8189 - val_loss: 0.9181 - val_accuracy: 0.7733\n",
      "Epoch 107/300\n",
      "135/135 [==============================] - 0s 2ms/step - loss: 0.8487 - accuracy: 0.8053 - val_loss: 0.9087 - val_accuracy: 0.7800\n",
      "Epoch 108/300\n",
      "135/135 [==============================] - 0s 2ms/step - loss: 0.8749 - accuracy: 0.8049 - val_loss: 0.8992 - val_accuracy: 0.7756\n",
      "Epoch 109/300\n",
      "135/135 [==============================] - 0s 2ms/step - loss: 0.8539 - accuracy: 0.8032 - val_loss: 0.8884 - val_accuracy: 0.7822\n",
      "Epoch 110/300\n",
      "135/135 [==============================] - 0s 2ms/step - loss: 0.8116 - accuracy: 0.8269 - val_loss: 0.8781 - val_accuracy: 0.7956\n",
      "Epoch 111/300\n",
      "135/135 [==============================] - 0s 2ms/step - loss: 0.8056 - accuracy: 0.8190 - val_loss: 0.8662 - val_accuracy: 0.7978\n",
      "Epoch 112/300\n",
      "135/135 [==============================] - 0s 2ms/step - loss: 0.7746 - accuracy: 0.8375 - val_loss: 0.8573 - val_accuracy: 0.8022\n",
      "Epoch 113/300\n",
      "135/135 [==============================] - 0s 2ms/step - loss: 0.8090 - accuracy: 0.8299 - val_loss: 0.8461 - val_accuracy: 0.8133\n",
      "Epoch 114/300\n",
      "135/135 [==============================] - 0s 2ms/step - loss: 0.7863 - accuracy: 0.8340 - val_loss: 0.8361 - val_accuracy: 0.8200\n",
      "Epoch 115/300\n",
      "135/135 [==============================] - 0s 2ms/step - loss: 0.7782 - accuracy: 0.8359 - val_loss: 0.8265 - val_accuracy: 0.8222\n",
      "Epoch 116/300\n",
      "135/135 [==============================] - 0s 2ms/step - loss: 0.7523 - accuracy: 0.8424 - val_loss: 0.8165 - val_accuracy: 0.8267\n",
      "Epoch 117/300\n",
      "135/135 [==============================] - 0s 2ms/step - loss: 0.7540 - accuracy: 0.8494 - val_loss: 0.8087 - val_accuracy: 0.8222\n",
      "Epoch 118/300\n",
      "135/135 [==============================] - 0s 2ms/step - loss: 0.7405 - accuracy: 0.8452 - val_loss: 0.7976 - val_accuracy: 0.8289\n",
      "Epoch 119/300\n",
      "135/135 [==============================] - 0s 2ms/step - loss: 0.7239 - accuracy: 0.8619 - val_loss: 0.7892 - val_accuracy: 0.8311\n",
      "Epoch 120/300\n",
      "135/135 [==============================] - 0s 2ms/step - loss: 0.6996 - accuracy: 0.8518 - val_loss: 0.7783 - val_accuracy: 0.8311\n",
      "Epoch 121/300\n",
      "135/135 [==============================] - 0s 2ms/step - loss: 0.7088 - accuracy: 0.8566 - val_loss: 0.7711 - val_accuracy: 0.8311\n",
      "Epoch 122/300\n",
      "135/135 [==============================] - 0s 2ms/step - loss: 0.7441 - accuracy: 0.8315 - val_loss: 0.7608 - val_accuracy: 0.8378\n",
      "Epoch 123/300\n",
      "135/135 [==============================] - 0s 2ms/step - loss: 0.7112 - accuracy: 0.8538 - val_loss: 0.7520 - val_accuracy: 0.8378\n",
      "Epoch 124/300\n",
      "135/135 [==============================] - 0s 2ms/step - loss: 0.6834 - accuracy: 0.8789 - val_loss: 0.7454 - val_accuracy: 0.8378\n",
      "Epoch 125/300\n",
      "135/135 [==============================] - 0s 2ms/step - loss: 0.6975 - accuracy: 0.8527 - val_loss: 0.7353 - val_accuracy: 0.8378\n",
      "Epoch 126/300\n",
      "135/135 [==============================] - 0s 2ms/step - loss: 0.6655 - accuracy: 0.8805 - val_loss: 0.7256 - val_accuracy: 0.8378\n",
      "Epoch 127/300\n",
      "135/135 [==============================] - 0s 2ms/step - loss: 0.6638 - accuracy: 0.8725 - val_loss: 0.7183 - val_accuracy: 0.8356\n",
      "Epoch 128/300\n",
      "135/135 [==============================] - 0s 2ms/step - loss: 0.6731 - accuracy: 0.8594 - val_loss: 0.7084 - val_accuracy: 0.8400\n",
      "Epoch 129/300\n",
      "135/135 [==============================] - 0s 2ms/step - loss: 0.6302 - accuracy: 0.8750 - val_loss: 0.7024 - val_accuracy: 0.8400\n",
      "Epoch 130/300\n",
      "135/135 [==============================] - 0s 2ms/step - loss: 0.6690 - accuracy: 0.8574 - val_loss: 0.6946 - val_accuracy: 0.8422\n",
      "Epoch 131/300\n",
      "135/135 [==============================] - 0s 2ms/step - loss: 0.6505 - accuracy: 0.8705 - val_loss: 0.6862 - val_accuracy: 0.8422\n",
      "Epoch 132/300\n",
      "135/135 [==============================] - 0s 2ms/step - loss: 0.6368 - accuracy: 0.8771 - val_loss: 0.6778 - val_accuracy: 0.8444\n",
      "Epoch 133/300\n",
      "135/135 [==============================] - 0s 2ms/step - loss: 0.6186 - accuracy: 0.8915 - val_loss: 0.6697 - val_accuracy: 0.8422\n",
      "Epoch 134/300\n",
      "135/135 [==============================] - 0s 2ms/step - loss: 0.6134 - accuracy: 0.8732 - val_loss: 0.6628 - val_accuracy: 0.8422\n",
      "Epoch 135/300\n",
      "135/135 [==============================] - 0s 2ms/step - loss: 0.6073 - accuracy: 0.8824 - val_loss: 0.6548 - val_accuracy: 0.8467\n",
      "Epoch 136/300\n",
      "135/135 [==============================] - 0s 2ms/step - loss: 0.6104 - accuracy: 0.8697 - val_loss: 0.6476 - val_accuracy: 0.8467\n",
      "Epoch 137/300\n",
      "135/135 [==============================] - 0s 2ms/step - loss: 0.6044 - accuracy: 0.8804 - val_loss: 0.6402 - val_accuracy: 0.8511\n",
      "Epoch 138/300\n",
      "135/135 [==============================] - 0s 3ms/step - loss: 0.5744 - accuracy: 0.8874 - val_loss: 0.6326 - val_accuracy: 0.8533\n",
      "Epoch 139/300\n",
      "135/135 [==============================] - 0s 2ms/step - loss: 0.5945 - accuracy: 0.8705 - val_loss: 0.6264 - val_accuracy: 0.8578\n",
      "Epoch 140/300\n",
      "135/135 [==============================] - 0s 2ms/step - loss: 0.5903 - accuracy: 0.8822 - val_loss: 0.6199 - val_accuracy: 0.8578\n",
      "Epoch 141/300\n",
      "135/135 [==============================] - 0s 2ms/step - loss: 0.5492 - accuracy: 0.8927 - val_loss: 0.6122 - val_accuracy: 0.8556\n",
      "Epoch 142/300\n",
      "135/135 [==============================] - 0s 2ms/step - loss: 0.5605 - accuracy: 0.9019 - val_loss: 0.6067 - val_accuracy: 0.8533\n",
      "Epoch 143/300\n",
      "135/135 [==============================] - 0s 1ms/step - loss: 0.5473 - accuracy: 0.8892 - val_loss: 0.6002 - val_accuracy: 0.8556\n",
      "Epoch 144/300\n",
      "135/135 [==============================] - 0s 2ms/step - loss: 0.5467 - accuracy: 0.8996 - val_loss: 0.5912 - val_accuracy: 0.8622\n",
      "Epoch 145/300\n",
      "135/135 [==============================] - 0s 2ms/step - loss: 0.5302 - accuracy: 0.8958 - val_loss: 0.5863 - val_accuracy: 0.8600\n",
      "Epoch 146/300\n",
      "135/135 [==============================] - 0s 2ms/step - loss: 0.5413 - accuracy: 0.9014 - val_loss: 0.5791 - val_accuracy: 0.8622\n",
      "Epoch 147/300\n",
      "135/135 [==============================] - 0s 2ms/step - loss: 0.5133 - accuracy: 0.9037 - val_loss: 0.5752 - val_accuracy: 0.8644\n",
      "Epoch 148/300\n",
      "135/135 [==============================] - 0s 1ms/step - loss: 0.5392 - accuracy: 0.8855 - val_loss: 0.5674 - val_accuracy: 0.8667\n",
      "Epoch 149/300\n",
      "135/135 [==============================] - 0s 2ms/step - loss: 0.5069 - accuracy: 0.8993 - val_loss: 0.5636 - val_accuracy: 0.8644\n",
      "Epoch 150/300\n",
      "135/135 [==============================] - 0s 2ms/step - loss: 0.4911 - accuracy: 0.9024 - val_loss: 0.5559 - val_accuracy: 0.8689\n",
      "Epoch 151/300\n",
      "135/135 [==============================] - 0s 2ms/step - loss: 0.5011 - accuracy: 0.9019 - val_loss: 0.5512 - val_accuracy: 0.8667\n",
      "Epoch 152/300\n",
      "135/135 [==============================] - 0s 2ms/step - loss: 0.4852 - accuracy: 0.9106 - val_loss: 0.5446 - val_accuracy: 0.8711\n",
      "Epoch 153/300\n",
      "135/135 [==============================] - 0s 2ms/step - loss: 0.4848 - accuracy: 0.9073 - val_loss: 0.5397 - val_accuracy: 0.8733\n",
      "Epoch 154/300\n",
      "135/135 [==============================] - 0s 2ms/step - loss: 0.4912 - accuracy: 0.8989 - val_loss: 0.5352 - val_accuracy: 0.8733\n",
      "Epoch 155/300\n",
      "135/135 [==============================] - 0s 1ms/step - loss: 0.4920 - accuracy: 0.9091 - val_loss: 0.5294 - val_accuracy: 0.8778\n",
      "Epoch 156/300\n",
      "135/135 [==============================] - 0s 2ms/step - loss: 0.4823 - accuracy: 0.9016 - val_loss: 0.5248 - val_accuracy: 0.8756\n",
      "Epoch 157/300\n",
      "135/135 [==============================] - 0s 2ms/step - loss: 0.4485 - accuracy: 0.9141 - val_loss: 0.5188 - val_accuracy: 0.8756\n",
      "Epoch 158/300\n",
      "135/135 [==============================] - 0s 2ms/step - loss: 0.4703 - accuracy: 0.9043 - val_loss: 0.5135 - val_accuracy: 0.8800\n",
      "Epoch 159/300\n",
      "135/135 [==============================] - 0s 2ms/step - loss: 0.4439 - accuracy: 0.9242 - val_loss: 0.5104 - val_accuracy: 0.8778\n",
      "Epoch 160/300\n",
      "135/135 [==============================] - 0s 2ms/step - loss: 0.4762 - accuracy: 0.8945 - val_loss: 0.5052 - val_accuracy: 0.8778\n",
      "Epoch 161/300\n",
      "135/135 [==============================] - 0s 2ms/step - loss: 0.4397 - accuracy: 0.9164 - val_loss: 0.4998 - val_accuracy: 0.8800\n",
      "Epoch 162/300\n",
      "135/135 [==============================] - 0s 2ms/step - loss: 0.4793 - accuracy: 0.8947 - val_loss: 0.4959 - val_accuracy: 0.8800\n",
      "Epoch 163/300\n",
      "135/135 [==============================] - 0s 2ms/step - loss: 0.4114 - accuracy: 0.9332 - val_loss: 0.4907 - val_accuracy: 0.8844\n",
      "Epoch 164/300\n",
      "135/135 [==============================] - 0s 2ms/step - loss: 0.4020 - accuracy: 0.9361 - val_loss: 0.4856 - val_accuracy: 0.8800\n",
      "Epoch 165/300\n",
      "135/135 [==============================] - 0s 2ms/step - loss: 0.4308 - accuracy: 0.9133 - val_loss: 0.4823 - val_accuracy: 0.8822\n",
      "Epoch 166/300\n",
      "135/135 [==============================] - 0s 2ms/step - loss: 0.4343 - accuracy: 0.9097 - val_loss: 0.4792 - val_accuracy: 0.8822\n",
      "Epoch 167/300\n",
      "135/135 [==============================] - 0s 2ms/step - loss: 0.4025 - accuracy: 0.9240 - val_loss: 0.4740 - val_accuracy: 0.8844\n",
      "Epoch 168/300\n",
      "135/135 [==============================] - 0s 2ms/step - loss: 0.4142 - accuracy: 0.9194 - val_loss: 0.4687 - val_accuracy: 0.8844\n",
      "Epoch 169/300\n",
      "135/135 [==============================] - 0s 2ms/step - loss: 0.4101 - accuracy: 0.9193 - val_loss: 0.4655 - val_accuracy: 0.8844\n",
      "Epoch 170/300\n",
      "135/135 [==============================] - 0s 2ms/step - loss: 0.4066 - accuracy: 0.9262 - val_loss: 0.4617 - val_accuracy: 0.8844\n",
      "Epoch 171/300\n",
      "135/135 [==============================] - 0s 2ms/step - loss: 0.4152 - accuracy: 0.9176 - val_loss: 0.4579 - val_accuracy: 0.8867\n",
      "Epoch 172/300\n",
      "135/135 [==============================] - 0s 2ms/step - loss: 0.3740 - accuracy: 0.9313 - val_loss: 0.4541 - val_accuracy: 0.8867\n",
      "Epoch 173/300\n",
      "135/135 [==============================] - 0s 1ms/step - loss: 0.3846 - accuracy: 0.9293 - val_loss: 0.4516 - val_accuracy: 0.8867\n",
      "Epoch 174/300\n",
      "135/135 [==============================] - 0s 2ms/step - loss: 0.3813 - accuracy: 0.9215 - val_loss: 0.4479 - val_accuracy: 0.8867\n",
      "Epoch 175/300\n",
      "135/135 [==============================] - 0s 2ms/step - loss: 0.3857 - accuracy: 0.9284 - val_loss: 0.4432 - val_accuracy: 0.8911\n",
      "Epoch 176/300\n",
      "135/135 [==============================] - 0s 2ms/step - loss: 0.3858 - accuracy: 0.9188 - val_loss: 0.4393 - val_accuracy: 0.8933\n",
      "Epoch 177/300\n",
      "135/135 [==============================] - 0s 2ms/step - loss: 0.3692 - accuracy: 0.9311 - val_loss: 0.4363 - val_accuracy: 0.8933\n",
      "Epoch 178/300\n",
      "135/135 [==============================] - 0s 2ms/step - loss: 0.3808 - accuracy: 0.9235 - val_loss: 0.4326 - val_accuracy: 0.8956\n",
      "Epoch 179/300\n",
      "135/135 [==============================] - 0s 2ms/step - loss: 0.3717 - accuracy: 0.9276 - val_loss: 0.4299 - val_accuracy: 0.8933\n",
      "Epoch 180/300\n",
      "135/135 [==============================] - 0s 2ms/step - loss: 0.3698 - accuracy: 0.9292 - val_loss: 0.4274 - val_accuracy: 0.8956\n",
      "Epoch 181/300\n",
      "135/135 [==============================] - 0s 2ms/step - loss: 0.3630 - accuracy: 0.9311 - val_loss: 0.4239 - val_accuracy: 0.9000\n",
      "Epoch 182/300\n",
      "135/135 [==============================] - 0s 2ms/step - loss: 0.3512 - accuracy: 0.9408 - val_loss: 0.4199 - val_accuracy: 0.9000\n",
      "Epoch 183/300\n",
      "135/135 [==============================] - 0s 2ms/step - loss: 0.3640 - accuracy: 0.9268 - val_loss: 0.4183 - val_accuracy: 0.8978\n",
      "Epoch 184/300\n",
      "135/135 [==============================] - 0s 2ms/step - loss: 0.3585 - accuracy: 0.9301 - val_loss: 0.4140 - val_accuracy: 0.9000\n",
      "Epoch 185/300\n",
      "135/135 [==============================] - 0s 2ms/step - loss: 0.3711 - accuracy: 0.9253 - val_loss: 0.4103 - val_accuracy: 0.9022\n",
      "Epoch 186/300\n",
      "135/135 [==============================] - 0s 2ms/step - loss: 0.3639 - accuracy: 0.9281 - val_loss: 0.4079 - val_accuracy: 0.9022\n",
      "Epoch 187/300\n",
      "135/135 [==============================] - 0s 2ms/step - loss: 0.3479 - accuracy: 0.9375 - val_loss: 0.4051 - val_accuracy: 0.9022\n",
      "Epoch 188/300\n",
      "135/135 [==============================] - 0s 2ms/step - loss: 0.3330 - accuracy: 0.9322 - val_loss: 0.4022 - val_accuracy: 0.9022\n",
      "Epoch 189/300\n",
      "135/135 [==============================] - 0s 2ms/step - loss: 0.3337 - accuracy: 0.9340 - val_loss: 0.4000 - val_accuracy: 0.9022\n",
      "Epoch 190/300\n",
      "135/135 [==============================] - 0s 2ms/step - loss: 0.3512 - accuracy: 0.9227 - val_loss: 0.3976 - val_accuracy: 0.9044\n",
      "Epoch 191/300\n",
      "135/135 [==============================] - 0s 2ms/step - loss: 0.3314 - accuracy: 0.9263 - val_loss: 0.3941 - val_accuracy: 0.9044\n",
      "Epoch 192/300\n",
      "135/135 [==============================] - 0s 1ms/step - loss: 0.3213 - accuracy: 0.9393 - val_loss: 0.3918 - val_accuracy: 0.9044\n",
      "Epoch 193/300\n",
      "135/135 [==============================] - 0s 2ms/step - loss: 0.3193 - accuracy: 0.9371 - val_loss: 0.3890 - val_accuracy: 0.9044\n",
      "Epoch 194/300\n",
      "135/135 [==============================] - 0s 2ms/step - loss: 0.3168 - accuracy: 0.9407 - val_loss: 0.3866 - val_accuracy: 0.9044\n",
      "Epoch 195/300\n",
      "135/135 [==============================] - 0s 2ms/step - loss: 0.3056 - accuracy: 0.9476 - val_loss: 0.3837 - val_accuracy: 0.9044\n",
      "Epoch 196/300\n",
      "135/135 [==============================] - 0s 2ms/step - loss: 0.3277 - accuracy: 0.9253 - val_loss: 0.3828 - val_accuracy: 0.9044\n",
      "Epoch 197/300\n",
      "135/135 [==============================] - 0s 2ms/step - loss: 0.3369 - accuracy: 0.9331 - val_loss: 0.3808 - val_accuracy: 0.9067\n",
      "Epoch 198/300\n",
      "135/135 [==============================] - 0s 2ms/step - loss: 0.3357 - accuracy: 0.9255 - val_loss: 0.3783 - val_accuracy: 0.9067\n",
      "Epoch 199/300\n",
      "135/135 [==============================] - 0s 2ms/step - loss: 0.3027 - accuracy: 0.9391 - val_loss: 0.3764 - val_accuracy: 0.9067\n",
      "Epoch 200/300\n",
      "135/135 [==============================] - 0s 1ms/step - loss: 0.3013 - accuracy: 0.9387 - val_loss: 0.3722 - val_accuracy: 0.9067\n",
      "Epoch 201/300\n",
      "135/135 [==============================] - 0s 2ms/step - loss: 0.3150 - accuracy: 0.9315 - val_loss: 0.3710 - val_accuracy: 0.9067\n",
      "Epoch 202/300\n",
      "135/135 [==============================] - 0s 2ms/step - loss: 0.3247 - accuracy: 0.9284 - val_loss: 0.3686 - val_accuracy: 0.9067\n",
      "Epoch 203/300\n",
      "135/135 [==============================] - 0s 2ms/step - loss: 0.3069 - accuracy: 0.9368 - val_loss: 0.3665 - val_accuracy: 0.9067\n",
      "Epoch 204/300\n",
      "135/135 [==============================] - 0s 2ms/step - loss: 0.3188 - accuracy: 0.9297 - val_loss: 0.3636 - val_accuracy: 0.9067\n",
      "Epoch 205/300\n",
      "135/135 [==============================] - 0s 2ms/step - loss: 0.3074 - accuracy: 0.9277 - val_loss: 0.3637 - val_accuracy: 0.9067\n",
      "Epoch 206/300\n",
      "135/135 [==============================] - 0s 2ms/step - loss: 0.2951 - accuracy: 0.9398 - val_loss: 0.3609 - val_accuracy: 0.9089\n",
      "Epoch 207/300\n",
      "135/135 [==============================] - 0s 2ms/step - loss: 0.3070 - accuracy: 0.9352 - val_loss: 0.3578 - val_accuracy: 0.9089\n",
      "Epoch 208/300\n",
      "135/135 [==============================] - 0s 2ms/step - loss: 0.2882 - accuracy: 0.9379 - val_loss: 0.3545 - val_accuracy: 0.9089\n",
      "Epoch 209/300\n",
      "135/135 [==============================] - 0s 2ms/step - loss: 0.2893 - accuracy: 0.9408 - val_loss: 0.3536 - val_accuracy: 0.9089\n",
      "Epoch 210/300\n",
      "135/135 [==============================] - 0s 2ms/step - loss: 0.2920 - accuracy: 0.9335 - val_loss: 0.3512 - val_accuracy: 0.9111\n",
      "Epoch 211/300\n",
      "135/135 [==============================] - 0s 2ms/step - loss: 0.2814 - accuracy: 0.9447 - val_loss: 0.3478 - val_accuracy: 0.9111\n",
      "Epoch 212/300\n",
      "135/135 [==============================] - 0s 2ms/step - loss: 0.2642 - accuracy: 0.9507 - val_loss: 0.3478 - val_accuracy: 0.9156\n",
      "Epoch 213/300\n",
      "135/135 [==============================] - 0s 2ms/step - loss: 0.2802 - accuracy: 0.9469 - val_loss: 0.3455 - val_accuracy: 0.9111\n",
      "Epoch 214/300\n",
      "135/135 [==============================] - 0s 3ms/step - loss: 0.2895 - accuracy: 0.9301 - val_loss: 0.3446 - val_accuracy: 0.9111\n",
      "Epoch 215/300\n",
      "135/135 [==============================] - 0s 2ms/step - loss: 0.2657 - accuracy: 0.9456 - val_loss: 0.3420 - val_accuracy: 0.9111\n",
      "Epoch 216/300\n",
      "135/135 [==============================] - 0s 2ms/step - loss: 0.2756 - accuracy: 0.9441 - val_loss: 0.3410 - val_accuracy: 0.9156\n",
      "Epoch 217/300\n",
      "135/135 [==============================] - 0s 2ms/step - loss: 0.2723 - accuracy: 0.9426 - val_loss: 0.3390 - val_accuracy: 0.9111\n",
      "Epoch 218/300\n",
      "135/135 [==============================] - 0s 2ms/step - loss: 0.2688 - accuracy: 0.9418 - val_loss: 0.3370 - val_accuracy: 0.9156\n",
      "Epoch 219/300\n",
      "135/135 [==============================] - 0s 2ms/step - loss: 0.2791 - accuracy: 0.9419 - val_loss: 0.3350 - val_accuracy: 0.9133\n",
      "Epoch 220/300\n",
      "135/135 [==============================] - 0s 2ms/step - loss: 0.2724 - accuracy: 0.9382 - val_loss: 0.3328 - val_accuracy: 0.9156\n",
      "Epoch 221/300\n",
      "135/135 [==============================] - 0s 2ms/step - loss: 0.2776 - accuracy: 0.9371 - val_loss: 0.3330 - val_accuracy: 0.9133\n",
      "Epoch 222/300\n",
      "135/135 [==============================] - 0s 2ms/step - loss: 0.2604 - accuracy: 0.9488 - val_loss: 0.3299 - val_accuracy: 0.9156\n",
      "Epoch 223/300\n",
      "135/135 [==============================] - 0s 2ms/step - loss: 0.2644 - accuracy: 0.9511 - val_loss: 0.3291 - val_accuracy: 0.9156\n",
      "Epoch 224/300\n",
      "135/135 [==============================] - 0s 2ms/step - loss: 0.2577 - accuracy: 0.9521 - val_loss: 0.3266 - val_accuracy: 0.9222\n",
      "Epoch 225/300\n",
      "135/135 [==============================] - 0s 2ms/step - loss: 0.2609 - accuracy: 0.9430 - val_loss: 0.3254 - val_accuracy: 0.9200\n",
      "Epoch 226/300\n",
      "135/135 [==============================] - 0s 2ms/step - loss: 0.2557 - accuracy: 0.9428 - val_loss: 0.3235 - val_accuracy: 0.9222\n",
      "Epoch 227/300\n",
      "135/135 [==============================] - 0s 2ms/step - loss: 0.2382 - accuracy: 0.9549 - val_loss: 0.3224 - val_accuracy: 0.9178\n",
      "Epoch 228/300\n",
      "135/135 [==============================] - 0s 2ms/step - loss: 0.2533 - accuracy: 0.9440 - val_loss: 0.3205 - val_accuracy: 0.9178\n",
      "Epoch 229/300\n",
      "135/135 [==============================] - 0s 2ms/step - loss: 0.2468 - accuracy: 0.9516 - val_loss: 0.3187 - val_accuracy: 0.9156\n",
      "Epoch 230/300\n",
      "135/135 [==============================] - 0s 2ms/step - loss: 0.2490 - accuracy: 0.9483 - val_loss: 0.3177 - val_accuracy: 0.9178\n",
      "Epoch 231/300\n",
      "135/135 [==============================] - 0s 2ms/step - loss: 0.2452 - accuracy: 0.9479 - val_loss: 0.3164 - val_accuracy: 0.9178\n",
      "Epoch 232/300\n",
      "135/135 [==============================] - 0s 2ms/step - loss: 0.2423 - accuracy: 0.9466 - val_loss: 0.3153 - val_accuracy: 0.9222\n",
      "Epoch 233/300\n",
      "135/135 [==============================] - 0s 2ms/step - loss: 0.2482 - accuracy: 0.9416 - val_loss: 0.3135 - val_accuracy: 0.9222\n",
      "Epoch 234/300\n",
      "135/135 [==============================] - 0s 2ms/step - loss: 0.2436 - accuracy: 0.9478 - val_loss: 0.3122 - val_accuracy: 0.9200\n",
      "Epoch 235/300\n",
      "135/135 [==============================] - 0s 2ms/step - loss: 0.2335 - accuracy: 0.9486 - val_loss: 0.3115 - val_accuracy: 0.9244\n",
      "Epoch 236/300\n",
      "135/135 [==============================] - 0s 2ms/step - loss: 0.2528 - accuracy: 0.9379 - val_loss: 0.3097 - val_accuracy: 0.9244\n",
      "Epoch 237/300\n",
      "135/135 [==============================] - 0s 2ms/step - loss: 0.2497 - accuracy: 0.9399 - val_loss: 0.3091 - val_accuracy: 0.9267\n",
      "Epoch 238/300\n",
      "135/135 [==============================] - 0s 2ms/step - loss: 0.2357 - accuracy: 0.9525 - val_loss: 0.3066 - val_accuracy: 0.9289\n",
      "Epoch 239/300\n",
      "135/135 [==============================] - 0s 2ms/step - loss: 0.2165 - accuracy: 0.9527 - val_loss: 0.3057 - val_accuracy: 0.9267\n",
      "Epoch 240/300\n",
      "135/135 [==============================] - 0s 2ms/step - loss: 0.2307 - accuracy: 0.9495 - val_loss: 0.3046 - val_accuracy: 0.9244\n",
      "Epoch 241/300\n",
      "135/135 [==============================] - 0s 2ms/step - loss: 0.2399 - accuracy: 0.9473 - val_loss: 0.3034 - val_accuracy: 0.9267\n",
      "Epoch 242/300\n",
      "135/135 [==============================] - 0s 2ms/step - loss: 0.2279 - accuracy: 0.9498 - val_loss: 0.3029 - val_accuracy: 0.9289\n",
      "Epoch 243/300\n",
      "135/135 [==============================] - 0s 2ms/step - loss: 0.2304 - accuracy: 0.9492 - val_loss: 0.3027 - val_accuracy: 0.9289\n",
      "Epoch 244/300\n",
      "135/135 [==============================] - 0s 2ms/step - loss: 0.2169 - accuracy: 0.9554 - val_loss: 0.2999 - val_accuracy: 0.9289\n",
      "Epoch 245/300\n",
      "135/135 [==============================] - 0s 2ms/step - loss: 0.2381 - accuracy: 0.9463 - val_loss: 0.2980 - val_accuracy: 0.9289\n",
      "Epoch 246/300\n",
      "135/135 [==============================] - 0s 2ms/step - loss: 0.2259 - accuracy: 0.9535 - val_loss: 0.2971 - val_accuracy: 0.9311\n",
      "Epoch 247/300\n",
      "135/135 [==============================] - 0s 2ms/step - loss: 0.2394 - accuracy: 0.9399 - val_loss: 0.2967 - val_accuracy: 0.9311\n",
      "Epoch 248/300\n",
      "135/135 [==============================] - 0s 3ms/step - loss: 0.2188 - accuracy: 0.9585 - val_loss: 0.2960 - val_accuracy: 0.9356\n",
      "Epoch 249/300\n",
      "135/135 [==============================] - 0s 2ms/step - loss: 0.2197 - accuracy: 0.9517 - val_loss: 0.2943 - val_accuracy: 0.9333\n",
      "Epoch 250/300\n",
      "135/135 [==============================] - 0s 2ms/step - loss: 0.2095 - accuracy: 0.9615 - val_loss: 0.2933 - val_accuracy: 0.9333\n",
      "Epoch 251/300\n",
      "135/135 [==============================] - 0s 2ms/step - loss: 0.2257 - accuracy: 0.9537 - val_loss: 0.2928 - val_accuracy: 0.9333\n",
      "Epoch 252/300\n",
      "135/135 [==============================] - 0s 2ms/step - loss: 0.2197 - accuracy: 0.9521 - val_loss: 0.2911 - val_accuracy: 0.9356\n",
      "Epoch 253/300\n",
      "135/135 [==============================] - 0s 2ms/step - loss: 0.2243 - accuracy: 0.9518 - val_loss: 0.2896 - val_accuracy: 0.9333\n",
      "Epoch 254/300\n",
      "135/135 [==============================] - 0s 2ms/step - loss: 0.2194 - accuracy: 0.9541 - val_loss: 0.2881 - val_accuracy: 0.9356\n",
      "Epoch 255/300\n",
      "135/135 [==============================] - 0s 2ms/step - loss: 0.2032 - accuracy: 0.9567 - val_loss: 0.2876 - val_accuracy: 0.9378\n",
      "Epoch 256/300\n",
      "135/135 [==============================] - 0s 2ms/step - loss: 0.2214 - accuracy: 0.9521 - val_loss: 0.2868 - val_accuracy: 0.9333\n",
      "Epoch 257/300\n",
      "135/135 [==============================] - 0s 2ms/step - loss: 0.2057 - accuracy: 0.9581 - val_loss: 0.2855 - val_accuracy: 0.9356\n",
      "Epoch 258/300\n",
      "135/135 [==============================] - 0s 2ms/step - loss: 0.2252 - accuracy: 0.9482 - val_loss: 0.2846 - val_accuracy: 0.9356\n",
      "Epoch 259/300\n",
      "135/135 [==============================] - 0s 2ms/step - loss: 0.1944 - accuracy: 0.9592 - val_loss: 0.2841 - val_accuracy: 0.9356\n",
      "Epoch 260/300\n",
      "135/135 [==============================] - 0s 2ms/step - loss: 0.2145 - accuracy: 0.9516 - val_loss: 0.2831 - val_accuracy: 0.9333\n",
      "Epoch 261/300\n",
      "135/135 [==============================] - 0s 2ms/step - loss: 0.1988 - accuracy: 0.9553 - val_loss: 0.2827 - val_accuracy: 0.9356\n",
      "Epoch 262/300\n",
      "135/135 [==============================] - 0s 2ms/step - loss: 0.1980 - accuracy: 0.9531 - val_loss: 0.2809 - val_accuracy: 0.9333\n",
      "Epoch 263/300\n",
      "135/135 [==============================] - 0s 2ms/step - loss: 0.2010 - accuracy: 0.9579 - val_loss: 0.2800 - val_accuracy: 0.9356\n",
      "Epoch 264/300\n",
      "135/135 [==============================] - 0s 2ms/step - loss: 0.2052 - accuracy: 0.9517 - val_loss: 0.2787 - val_accuracy: 0.9378\n",
      "Epoch 265/300\n",
      "135/135 [==============================] - 0s 2ms/step - loss: 0.2135 - accuracy: 0.9491 - val_loss: 0.2779 - val_accuracy: 0.9378\n",
      "Epoch 266/300\n",
      "135/135 [==============================] - 0s 2ms/step - loss: 0.2121 - accuracy: 0.9438 - val_loss: 0.2777 - val_accuracy: 0.9378\n",
      "Epoch 267/300\n",
      "135/135 [==============================] - 0s 2ms/step - loss: 0.1948 - accuracy: 0.9594 - val_loss: 0.2771 - val_accuracy: 0.9400\n",
      "Epoch 268/300\n",
      "135/135 [==============================] - 0s 2ms/step - loss: 0.1989 - accuracy: 0.9572 - val_loss: 0.2759 - val_accuracy: 0.9378\n",
      "Epoch 269/300\n",
      "135/135 [==============================] - 0s 2ms/step - loss: 0.1931 - accuracy: 0.9565 - val_loss: 0.2751 - val_accuracy: 0.9378\n",
      "Epoch 270/300\n",
      "135/135 [==============================] - 0s 2ms/step - loss: 0.1849 - accuracy: 0.9670 - val_loss: 0.2735 - val_accuracy: 0.9400\n",
      "Epoch 271/300\n",
      "135/135 [==============================] - 0s 2ms/step - loss: 0.1897 - accuracy: 0.9603 - val_loss: 0.2719 - val_accuracy: 0.9400\n",
      "Epoch 272/300\n",
      "135/135 [==============================] - 0s 2ms/step - loss: 0.1883 - accuracy: 0.9650 - val_loss: 0.2715 - val_accuracy: 0.9400\n",
      "Epoch 273/300\n",
      "135/135 [==============================] - 0s 2ms/step - loss: 0.1736 - accuracy: 0.9675 - val_loss: 0.2712 - val_accuracy: 0.9378\n",
      "Epoch 274/300\n",
      "135/135 [==============================] - 0s 2ms/step - loss: 0.1844 - accuracy: 0.9631 - val_loss: 0.2717 - val_accuracy: 0.9378\n",
      "Epoch 275/300\n",
      "135/135 [==============================] - 0s 2ms/step - loss: 0.1955 - accuracy: 0.9502 - val_loss: 0.2702 - val_accuracy: 0.9400\n",
      "Epoch 276/300\n",
      "135/135 [==============================] - 0s 2ms/step - loss: 0.1956 - accuracy: 0.9535 - val_loss: 0.2690 - val_accuracy: 0.9400\n",
      "Epoch 277/300\n",
      "135/135 [==============================] - 0s 2ms/step - loss: 0.1801 - accuracy: 0.9607 - val_loss: 0.2693 - val_accuracy: 0.9378\n",
      "Epoch 278/300\n",
      "135/135 [==============================] - 0s 2ms/step - loss: 0.2072 - accuracy: 0.9466 - val_loss: 0.2682 - val_accuracy: 0.9400\n",
      "Epoch 279/300\n",
      "135/135 [==============================] - 0s 2ms/step - loss: 0.1832 - accuracy: 0.9634 - val_loss: 0.2666 - val_accuracy: 0.9422\n",
      "Epoch 280/300\n",
      "135/135 [==============================] - 0s 2ms/step - loss: 0.1863 - accuracy: 0.9598 - val_loss: 0.2664 - val_accuracy: 0.9400\n",
      "Epoch 281/300\n",
      "135/135 [==============================] - 0s 2ms/step - loss: 0.1821 - accuracy: 0.9594 - val_loss: 0.2655 - val_accuracy: 0.9422\n",
      "Epoch 282/300\n",
      "135/135 [==============================] - 0s 2ms/step - loss: 0.1701 - accuracy: 0.9646 - val_loss: 0.2659 - val_accuracy: 0.9400\n",
      "Epoch 283/300\n",
      "135/135 [==============================] - 0s 2ms/step - loss: 0.2057 - accuracy: 0.9469 - val_loss: 0.2645 - val_accuracy: 0.9422\n",
      "Epoch 284/300\n",
      "135/135 [==============================] - 0s 2ms/step - loss: 0.1814 - accuracy: 0.9671 - val_loss: 0.2631 - val_accuracy: 0.9422\n",
      "Epoch 285/300\n",
      "135/135 [==============================] - 0s 2ms/step - loss: 0.1786 - accuracy: 0.9594 - val_loss: 0.2630 - val_accuracy: 0.9400\n",
      "Epoch 286/300\n",
      "135/135 [==============================] - 0s 2ms/step - loss: 0.1856 - accuracy: 0.9510 - val_loss: 0.2620 - val_accuracy: 0.9422\n",
      "Epoch 287/300\n",
      "135/135 [==============================] - 0s 2ms/step - loss: 0.1917 - accuracy: 0.9581 - val_loss: 0.2613 - val_accuracy: 0.9400\n",
      "Epoch 288/300\n",
      "135/135 [==============================] - 0s 2ms/step - loss: 0.1804 - accuracy: 0.9568 - val_loss: 0.2602 - val_accuracy: 0.9400\n",
      "Epoch 289/300\n",
      "135/135 [==============================] - 0s 2ms/step - loss: 0.1645 - accuracy: 0.9704 - val_loss: 0.2587 - val_accuracy: 0.9400\n",
      "Epoch 290/300\n",
      "135/135 [==============================] - 0s 3ms/step - loss: 0.1778 - accuracy: 0.9595 - val_loss: 0.2584 - val_accuracy: 0.9400\n",
      "Epoch 291/300\n",
      "135/135 [==============================] - 0s 2ms/step - loss: 0.1738 - accuracy: 0.9680 - val_loss: 0.2580 - val_accuracy: 0.9422\n",
      "Epoch 292/300\n",
      "135/135 [==============================] - 0s 2ms/step - loss: 0.1612 - accuracy: 0.9717 - val_loss: 0.2583 - val_accuracy: 0.9422\n",
      "Epoch 293/300\n",
      "135/135 [==============================] - 0s 2ms/step - loss: 0.1608 - accuracy: 0.9657 - val_loss: 0.2575 - val_accuracy: 0.9422\n",
      "Epoch 294/300\n",
      "135/135 [==============================] - 0s 2ms/step - loss: 0.1691 - accuracy: 0.9632 - val_loss: 0.2568 - val_accuracy: 0.9422\n",
      "Epoch 295/300\n",
      "135/135 [==============================] - 0s 2ms/step - loss: 0.1660 - accuracy: 0.9709 - val_loss: 0.2554 - val_accuracy: 0.9422\n",
      "Epoch 296/300\n",
      "135/135 [==============================] - 0s 2ms/step - loss: 0.1778 - accuracy: 0.9600 - val_loss: 0.2545 - val_accuracy: 0.9422\n",
      "Epoch 297/300\n",
      "135/135 [==============================] - 0s 2ms/step - loss: 0.1817 - accuracy: 0.9536 - val_loss: 0.2549 - val_accuracy: 0.9422\n",
      "Epoch 298/300\n",
      "135/135 [==============================] - 0s 2ms/step - loss: 0.1798 - accuracy: 0.9611 - val_loss: 0.2555 - val_accuracy: 0.9400\n",
      "Epoch 299/300\n",
      "135/135 [==============================] - 0s 2ms/step - loss: 0.1640 - accuracy: 0.9620 - val_loss: 0.2541 - val_accuracy: 0.9422\n",
      "Epoch 300/300\n",
      "135/135 [==============================] - 0s 2ms/step - loss: 0.1570 - accuracy: 0.9687 - val_loss: 0.2549 - val_accuracy: 0.9400\n"
     ]
    }
   ],
   "source": [
    "print('training network...')\n",
    "H = model.fit(\n",
    "    X_train, \n",
    "    y_train, \n",
    "    validation_data=(X_test, y_test), \n",
    "    epochs=300, \n",
    "    verbose=1,\n",
    "    shuffle=True,\n",
    "    batch_size=10)"
   ]
  },
  {
   "cell_type": "markdown",
   "metadata": {},
   "source": [
    "Make a plot of the training/validation loss and of the training/validation accuracy."
   ]
  },
  {
   "cell_type": "code",
   "execution_count": 18,
   "metadata": {},
   "outputs": [
    {
     "data": {
      "image/png": "[encoded data removed]",
      "text/plain": [
       "<Figure size 432x288 with 1 Axes>"
      ]
     },
     "metadata": {
      "needs_background": "light"
     },
     "output_type": "display_data"
    }
   ],
   "source": [
    "plt.figure()\n",
    "plt.axhline(y=1., color='gray', linestyle='dashed')\n",
    "plt.plot(H.history[\"loss\"][:300], label=\"training loss\")\n",
    "plt.plot(H.history[\"val_loss\"][:300], label=\"validation loss\")\n",
    "plt.plot(H.history[\"accuracy\"][:300], label=\"training accuracy\")\n",
    "plt.plot(H.history[\"val_accuracy\"][:300], label=\"validation accuracy\")\n",
    "plt.title(\"Training Loss and Accuracy\")\n",
    "plt.xlabel(\"Epoch\")\n",
    "plt.ylabel(\"Loss/Accuracy\")\n",
    "plt.xlim(0, 300)\n",
    "plt.legend()\n",
    "plt.savefig('Keras_mnist.pdf')\n",
    "plt.show()"
   ]
  },
  {
   "cell_type": "markdown",
   "metadata": {},
   "source": [
    "### Using ReLU layers\n",
    "\n",
    "In practice, you should always try ReLU over Sigmoid as it as proven to provide a better learning ability to the network (help with vanishing gradients)."
   ]
  },
  {
   "cell_type": "code",
   "execution_count": null,
   "metadata": {},
   "outputs": [],
   "source": [
    "model_relu = Sequential()\n",
    "model_relu.add(Dense(32, input_shape=(64, ), activation='relu'))\n",
    "model_relu.add(Dense(16, activation='relu'))\n",
    "model_relu.add(Dense(10, activation='softmax'))"
   ]
  },
  {
   "cell_type": "code",
   "execution_count": null,
   "metadata": {},
   "outputs": [],
   "source": [
    "model_relu.summary()"
   ]
  },
  {
   "cell_type": "code",
   "execution_count": null,
   "metadata": {},
   "outputs": [],
   "source": [
    "sgd = SGD(0.01)\n",
    "model_relu.compile(\n",
    "    loss='categorical_crossentropy', \n",
    "    optimizer=sgd, \n",
    "    metrics=['accuracy'])"
   ]
  },
  {
   "cell_type": "code",
   "execution_count": null,
   "metadata": {},
   "outputs": [],
   "source": [
    "X_train.shape"
   ]
  },
  {
   "cell_type": "code",
   "execution_count": null,
   "metadata": {},
   "outputs": [],
   "source": [
    "H = model_relu.fit(\n",
    "    X_train, \n",
    "    y_train, \n",
    "    epochs=300, \n",
    "    validation_split=0.1, \n",
    "    verbose=1,\n",
    "    shuffle=True,\n",
    "    batch_size=16)"
   ]
  },
  {
   "cell_type": "code",
   "execution_count": null,
   "metadata": {},
   "outputs": [],
   "source": [
    "loss = H.history['loss']\n",
    "val_loss = H.history['val_loss']\n",
    "epochs = range(1, len(loss) + 1)\n",
    "fig = plt.figure(figsize=(12, 5))\n",
    "ax1 = plt.subplot(1, 2, 1)\n",
    "ax1.plot(epochs, loss, label='Training loss')\n",
    "ax1.plot(epochs, val_loss, label='Validation loss')\n",
    "plt.xlabel('Epochs')\n",
    "plt.ylabel('Loss')\n",
    "plt.legend()\n",
    "ax2 = plt.subplot(1, 2, 2)\n",
    "acc = H.history['accuracy']\n",
    "val_acc = H.history['val_accuracy']\n",
    "ax2.plot(epochs, acc, label='Training acc')\n",
    "ax2.plot(epochs, val_acc, label='Validation acc')\n",
    "plt.xlabel('Epochs')\n",
    "plt.ylabel('Accuracy')\n",
    "plt.legend()\n",
    "plt.subplots_adjust(wspace=0.3)\n",
    "plt.show()"
   ]
  },
  {
   "cell_type": "markdown",
   "metadata": {},
   "source": [
    "## Solve the moons dataset\n",
    "\n",
    "Here we want to create a model to solve the classical moons dataset (which has 2 classes). This model consists of:\n",
    "\n",
    "   * 2 input features (from make_moons)\n",
    "   * Two hidden layers with ReLU activation\n",
    "   * 1 output neuron with sigmoid activation for binary classification\n",
    "   * Adam optimizer and binary cross-entropy loss\n"
   ]
  },
  {
   "cell_type": "code",
   "execution_count": null,
   "metadata": {},
   "outputs": [],
   "source": [
    "import tensorflow as tf\n",
    "import numpy as np\n",
    "import matplotlib.pyplot as plt\n",
    "from sklearn.datasets import make_moons\n",
    "from sklearn.model_selection import train_test_split\n",
    "from sklearn.preprocessing import StandardScaler\n",
    "\n",
    "# start by generating the moons dataset\n",
    "X, y = make_moons(n_samples=1000, noise=0.2, random_state=42)\n",
    "\n",
    "# split the data into training and testing sets\n",
    "X_train, X_test, y_train, y_test = train_test_split(X, y, test_size=0.2, random_state=42)\n",
    "\n",
    "# standardize our features\n",
    "scaler = StandardScaler()\n",
    "X_train = scaler.fit_transform(X_train)\n",
    "X_test = scaler.transform(X_test)\n",
    "\n",
    "# build the model\n",
    "model = tf.keras.Sequential([\n",
    "    tf.keras.layers.Dense(10, activation='relu', input_shape=(2,)),  # First hidden layer\n",
    "    tf.keras.layers.Dense(5, activation='relu'),  # Second hidden layer\n",
    "    tf.keras.layers.Dense(1, activation='sigmoid')  # Output layer (binary classification)\n",
    "])\n",
    "\n",
    "# compile the model\n",
    "model.compile(optimizer='adam', loss='binary_crossentropy', metrics=['accuracy'])\n",
    "\n",
    "# train the model\n",
    "history = model.fit(X_train, y_train, epochs=100, batch_size=16, validation_data=(X_test, y_test))\n",
    "\n",
    "# evaluate the model\n",
    "test_loss, test_acc = model.evaluate(X_test, y_test)\n",
    "print(f\"Test Accuracy: {test_acc:.4f}\")\n",
    "\n",
    "# plot decision boundary\n",
    "xx, yy = np.meshgrid(np.linspace(-2, 3, 100), np.linspace(-1.5, 2, 100))\n",
    "X_grid = np.c_[xx.ravel(), yy.ravel()]\n",
    "X_grid = scaler.transform(X_grid)\n",
    "y_pred_grid = model.predict(X_grid).reshape(xx.shape)\n",
    "\n",
    "plt.contourf(xx, yy, y_pred_grid, levels=[0, 0.5, 1], alpha=0.3, cmap='coolwarm')\n",
    "plt.scatter(X_test[:, 0], X_test[:, 1], c=y_test, cmap='coolwarm', edgecolors='k')\n",
    "plt.title(\"Decision Boundary\")\n",
    "plt.show()\n"
   ]
  },
  {
   "cell_type": "code",
   "execution_count": null,
   "metadata": {},
   "outputs": [],
   "source": []
  }
 ],
 "metadata": {
  "kernelspec": {
   "display_name": "Python 3 (ipykernel)",
   "language": "python",
   "name": "python3"
  },
  "language_info": {
   "codemirror_mode": {
    "name": "ipython",
    "version": 3
   },
   "file_extension": ".py",
   "mimetype": "text/x-python",
   "name": "python",
   "nbconvert_exporter": "python",
   "pygments_lexer": "ipython3",
   "version": "3.12.2"
  }
 },
 "nbformat": 4,
 "nbformat_minor": 4
}
